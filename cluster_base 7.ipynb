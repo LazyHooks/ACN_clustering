{
  "nbformat": 4,
  "nbformat_minor": 0,
  "metadata": {
    "colab": {
      "provenance": [],
      "authorship_tag": "ABX9TyMDgv/aau8S7RwdeFUksEXv",
      "include_colab_link": true
    },
    "kernelspec": {
      "name": "python3",
      "display_name": "Python 3"
    },
    "language_info": {
      "name": "python"
    }
  },
  "cells": [
    {
      "cell_type": "markdown",
      "metadata": {
        "id": "view-in-github",
        "colab_type": "text"
      },
      "source": [
        "<a href=\"https://colab.research.google.com/github/LazyHooks/ACN_clustering/blob/main/cluster_base%207.ipynb\" target=\"_parent\"><img src=\"https://colab.research.google.com/assets/colab-badge.svg\" alt=\"Open In Colab\"/></a>"
      ]
    },
    {
      "cell_type": "markdown",
      "source": [
        "imports"
      ],
      "metadata": {
        "id": "EZ66BoAMg2RN"
      }
    },
    {
      "cell_type": "code",
      "source": [
        "import numpy as np \n",
        "import pandas as pd \n",
        "import matplotlib.pyplot as plt \n",
        "import seaborn as sns \n",
        "%matplotlib inline\n",
        "from sklearn.manifold import TSNE\n",
        "from sklearn.metrics import silhouette_score\n",
        "import os\n",
        "for dirname, _, filenames in os.walk('/kaggle/input'):\n",
        "    for filename in filenames:\n",
        "        print(os.path.join(dirname, filename))"
      ],
      "metadata": {
        "id": "85Jrb1-0g5gr"
      },
      "execution_count": 179,
      "outputs": []
    },
    {
      "cell_type": "markdown",
      "source": [
        "warning override"
      ],
      "metadata": {
        "id": "klm0o1oOhYTL"
      }
    },
    {
      "cell_type": "code",
      "source": [
        "import warnings\n",
        "\n",
        "warnings.filterwarnings('ignore')"
      ],
      "metadata": {
        "id": "Y-mwBcyxhdww"
      },
      "execution_count": 180,
      "outputs": []
    },
    {
      "cell_type": "markdown",
      "source": [
        "input"
      ],
      "metadata": {
        "id": "-enRFqMvhe57"
      }
    },
    {
      "cell_type": "code",
      "source": [
        "df = pd.read_csv(\"EPS coded data_base.csv\")"
      ],
      "metadata": {
        "id": "J8b3fvEehfwn"
      },
      "execution_count": 181,
      "outputs": []
    },
    {
      "cell_type": "markdown",
      "source": [
        "exploratory"
      ],
      "metadata": {
        "id": "URa-ZxyVhk8R"
      }
    },
    {
      "cell_type": "code",
      "source": [
        "df.shape\n",
        "\n",
        "df.info()"
      ],
      "metadata": {
        "colab": {
          "base_uri": "https://localhost:8080/"
        },
        "id": "K5urbmDQhoUp",
        "outputId": "83171c78-fb61-475e-9cc4-913b58f38f53"
      },
      "execution_count": 182,
      "outputs": [
        {
          "output_type": "stream",
          "name": "stdout",
          "text": [
            "<class 'pandas.core.frame.DataFrame'>\n",
            "RangeIndex: 5615 entries, 0 to 5614\n",
            "Data columns (total 9 columns):\n",
            " #   Column                                        Non-Null Count  Dtype\n",
            "---  ------                                        --------------  -----\n",
            " 0   Internal Parity                               5615 non-null   int64\n",
            " 1   External Parity                               5615 non-null   int64\n",
            " 2   Desired Delta\n",
            "Base Pay                        5615 non-null   int64\n",
            " 3   External Parity desired at inception          5615 non-null   int64\n",
            " 4   Larger Pay Range                              5615 non-null   int64\n",
            " 5   Percentage increase vs absolute pay           5615 non-null   int64\n",
            " 6   Skill differentiation vs job differentiation  5615 non-null   int64\n",
            " 7   Likelihood of retention for 3 years           5615 non-null   int64\n",
            " 8   Strong Colleague Network                      5615 non-null   int64\n",
            "dtypes: int64(9)\n",
            "memory usage: 394.9 KB\n"
          ]
        }
      ]
    },
    {
      "cell_type": "code",
      "source": [
        "df.head()"
      ],
      "metadata": {
        "colab": {
          "base_uri": "https://localhost:8080/",
          "height": 320
        },
        "id": "JfEPJr9UiO5E",
        "outputId": "c3392d20-f1d8-4b8e-bfaa-79b32811769d"
      },
      "execution_count": 183,
      "outputs": [
        {
          "output_type": "execute_result",
          "data": {
            "text/plain": [
              "   Internal Parity  External Parity  Desired Delta\\nBase Pay  \\\n",
              "0                0                1                       38   \n",
              "1                0                0                       38   \n",
              "2                0                0                       38   \n",
              "3                1                0                       38   \n",
              "4                0                0                       38   \n",
              "\n",
              "   External Parity desired at inception  Larger Pay Range  \\\n",
              "0                                     0                 1   \n",
              "1                                     0                 0   \n",
              "2                                     0                 1   \n",
              "3                                     0                 1   \n",
              "4                                     1                 0   \n",
              "\n",
              "   Percentage increase vs absolute pay  \\\n",
              "0                                    0   \n",
              "1                                    1   \n",
              "2                                    1   \n",
              "3                                    1   \n",
              "4                                    0   \n",
              "\n",
              "   Skill differentiation vs job differentiation  \\\n",
              "0                                             0   \n",
              "1                                             1   \n",
              "2                                             0   \n",
              "3                                             0   \n",
              "4                                             1   \n",
              "\n",
              "   Likelihood of retention for 3 years  Strong Colleague Network  \n",
              "0                                    4                         4  \n",
              "1                                    4                         4  \n",
              "2                                    3                         3  \n",
              "3                                    4                         4  \n",
              "4                                    4                         4  "
            ],
            "text/html": [
              "\n",
              "  <div id=\"df-51bc3602-d819-49f1-93ab-abc335129632\">\n",
              "    <div class=\"colab-df-container\">\n",
              "      <div>\n",
              "<style scoped>\n",
              "    .dataframe tbody tr th:only-of-type {\n",
              "        vertical-align: middle;\n",
              "    }\n",
              "\n",
              "    .dataframe tbody tr th {\n",
              "        vertical-align: top;\n",
              "    }\n",
              "\n",
              "    .dataframe thead th {\n",
              "        text-align: right;\n",
              "    }\n",
              "</style>\n",
              "<table border=\"1\" class=\"dataframe\">\n",
              "  <thead>\n",
              "    <tr style=\"text-align: right;\">\n",
              "      <th></th>\n",
              "      <th>Internal Parity</th>\n",
              "      <th>External Parity</th>\n",
              "      <th>Desired Delta\\nBase Pay</th>\n",
              "      <th>External Parity desired at inception</th>\n",
              "      <th>Larger Pay Range</th>\n",
              "      <th>Percentage increase vs absolute pay</th>\n",
              "      <th>Skill differentiation vs job differentiation</th>\n",
              "      <th>Likelihood of retention for 3 years</th>\n",
              "      <th>Strong Colleague Network</th>\n",
              "    </tr>\n",
              "  </thead>\n",
              "  <tbody>\n",
              "    <tr>\n",
              "      <th>0</th>\n",
              "      <td>0</td>\n",
              "      <td>1</td>\n",
              "      <td>38</td>\n",
              "      <td>0</td>\n",
              "      <td>1</td>\n",
              "      <td>0</td>\n",
              "      <td>0</td>\n",
              "      <td>4</td>\n",
              "      <td>4</td>\n",
              "    </tr>\n",
              "    <tr>\n",
              "      <th>1</th>\n",
              "      <td>0</td>\n",
              "      <td>0</td>\n",
              "      <td>38</td>\n",
              "      <td>0</td>\n",
              "      <td>0</td>\n",
              "      <td>1</td>\n",
              "      <td>1</td>\n",
              "      <td>4</td>\n",
              "      <td>4</td>\n",
              "    </tr>\n",
              "    <tr>\n",
              "      <th>2</th>\n",
              "      <td>0</td>\n",
              "      <td>0</td>\n",
              "      <td>38</td>\n",
              "      <td>0</td>\n",
              "      <td>1</td>\n",
              "      <td>1</td>\n",
              "      <td>0</td>\n",
              "      <td>3</td>\n",
              "      <td>3</td>\n",
              "    </tr>\n",
              "    <tr>\n",
              "      <th>3</th>\n",
              "      <td>1</td>\n",
              "      <td>0</td>\n",
              "      <td>38</td>\n",
              "      <td>0</td>\n",
              "      <td>1</td>\n",
              "      <td>1</td>\n",
              "      <td>0</td>\n",
              "      <td>4</td>\n",
              "      <td>4</td>\n",
              "    </tr>\n",
              "    <tr>\n",
              "      <th>4</th>\n",
              "      <td>0</td>\n",
              "      <td>0</td>\n",
              "      <td>38</td>\n",
              "      <td>1</td>\n",
              "      <td>0</td>\n",
              "      <td>0</td>\n",
              "      <td>1</td>\n",
              "      <td>4</td>\n",
              "      <td>4</td>\n",
              "    </tr>\n",
              "  </tbody>\n",
              "</table>\n",
              "</div>\n",
              "      <button class=\"colab-df-convert\" onclick=\"convertToInteractive('df-51bc3602-d819-49f1-93ab-abc335129632')\"\n",
              "              title=\"Convert this dataframe to an interactive table.\"\n",
              "              style=\"display:none;\">\n",
              "        \n",
              "  <svg xmlns=\"http://www.w3.org/2000/svg\" height=\"24px\"viewBox=\"0 0 24 24\"\n",
              "       width=\"24px\">\n",
              "    <path d=\"M0 0h24v24H0V0z\" fill=\"none\"/>\n",
              "    <path d=\"M18.56 5.44l.94 2.06.94-2.06 2.06-.94-2.06-.94-.94-2.06-.94 2.06-2.06.94zm-11 1L8.5 8.5l.94-2.06 2.06-.94-2.06-.94L8.5 2.5l-.94 2.06-2.06.94zm10 10l.94 2.06.94-2.06 2.06-.94-2.06-.94-.94-2.06-.94 2.06-2.06.94z\"/><path d=\"M17.41 7.96l-1.37-1.37c-.4-.4-.92-.59-1.43-.59-.52 0-1.04.2-1.43.59L10.3 9.45l-7.72 7.72c-.78.78-.78 2.05 0 2.83L4 21.41c.39.39.9.59 1.41.59.51 0 1.02-.2 1.41-.59l7.78-7.78 2.81-2.81c.8-.78.8-2.07 0-2.86zM5.41 20L4 18.59l7.72-7.72 1.47 1.35L5.41 20z\"/>\n",
              "  </svg>\n",
              "      </button>\n",
              "      \n",
              "  <style>\n",
              "    .colab-df-container {\n",
              "      display:flex;\n",
              "      flex-wrap:wrap;\n",
              "      gap: 12px;\n",
              "    }\n",
              "\n",
              "    .colab-df-convert {\n",
              "      background-color: #E8F0FE;\n",
              "      border: none;\n",
              "      border-radius: 50%;\n",
              "      cursor: pointer;\n",
              "      display: none;\n",
              "      fill: #1967D2;\n",
              "      height: 32px;\n",
              "      padding: 0 0 0 0;\n",
              "      width: 32px;\n",
              "    }\n",
              "\n",
              "    .colab-df-convert:hover {\n",
              "      background-color: #E2EBFA;\n",
              "      box-shadow: 0px 1px 2px rgba(60, 64, 67, 0.3), 0px 1px 3px 1px rgba(60, 64, 67, 0.15);\n",
              "      fill: #174EA6;\n",
              "    }\n",
              "\n",
              "    [theme=dark] .colab-df-convert {\n",
              "      background-color: #3B4455;\n",
              "      fill: #D2E3FC;\n",
              "    }\n",
              "\n",
              "    [theme=dark] .colab-df-convert:hover {\n",
              "      background-color: #434B5C;\n",
              "      box-shadow: 0px 1px 3px 1px rgba(0, 0, 0, 0.15);\n",
              "      filter: drop-shadow(0px 1px 2px rgba(0, 0, 0, 0.3));\n",
              "      fill: #FFFFFF;\n",
              "    }\n",
              "  </style>\n",
              "\n",
              "      <script>\n",
              "        const buttonEl =\n",
              "          document.querySelector('#df-51bc3602-d819-49f1-93ab-abc335129632 button.colab-df-convert');\n",
              "        buttonEl.style.display =\n",
              "          google.colab.kernel.accessAllowed ? 'block' : 'none';\n",
              "\n",
              "        async function convertToInteractive(key) {\n",
              "          const element = document.querySelector('#df-51bc3602-d819-49f1-93ab-abc335129632');\n",
              "          const dataTable =\n",
              "            await google.colab.kernel.invokeFunction('convertToInteractive',\n",
              "                                                     [key], {});\n",
              "          if (!dataTable) return;\n",
              "\n",
              "          const docLinkHtml = 'Like what you see? Visit the ' +\n",
              "            '<a target=\"_blank\" href=https://colab.research.google.com/notebooks/data_table.ipynb>data table notebook</a>'\n",
              "            + ' to learn more about interactive tables.';\n",
              "          element.innerHTML = '';\n",
              "          dataTable['output_type'] = 'display_data';\n",
              "          await google.colab.output.renderOutput(dataTable, element);\n",
              "          const docLink = document.createElement('div');\n",
              "          docLink.innerHTML = docLinkHtml;\n",
              "          element.appendChild(docLink);\n",
              "        }\n",
              "      </script>\n",
              "    </div>\n",
              "  </div>\n",
              "  "
            ]
          },
          "metadata": {},
          "execution_count": 183
        }
      ]
    },
    {
      "cell_type": "markdown",
      "source": [
        "checks"
      ],
      "metadata": {
        "id": "JU0tPdckhyVL"
      }
    },
    {
      "cell_type": "code",
      "source": [
        "df.isnull().sum()\n",
        "df.describe()"
      ],
      "metadata": {
        "colab": {
          "base_uri": "https://localhost:8080/",
          "height": 434
        },
        "id": "glU0ZWG9hzKf",
        "outputId": "977b199b-31ce-4043-bd00-500664ea35c0"
      },
      "execution_count": 184,
      "outputs": [
        {
          "output_type": "execute_result",
          "data": {
            "text/plain": [
              "       Internal Parity  External Parity  Desired Delta\\nBase Pay  \\\n",
              "count      5615.000000      5615.000000              5615.000000   \n",
              "mean          0.325557         0.261264                30.882814   \n",
              "std           0.468624         0.439363                13.551580   \n",
              "min           0.000000         0.000000                 5.000000   \n",
              "25%           0.000000         0.000000                25.000000   \n",
              "50%           0.000000         0.000000                38.000000   \n",
              "75%           1.000000         1.000000                38.000000   \n",
              "max           1.000000         1.000000                45.000000   \n",
              "\n",
              "       External Parity desired at inception  Larger Pay Range  \\\n",
              "count                           5615.000000       5615.000000   \n",
              "mean                               0.344791          0.374711   \n",
              "std                                0.475342          0.484091   \n",
              "min                                0.000000          0.000000   \n",
              "25%                                0.000000          0.000000   \n",
              "50%                                0.000000          0.000000   \n",
              "75%                                1.000000          1.000000   \n",
              "max                                1.000000          1.000000   \n",
              "\n",
              "       Percentage increase vs absolute pay  \\\n",
              "count                          5615.000000   \n",
              "mean                              0.599288   \n",
              "std                               0.490086   \n",
              "min                               0.000000   \n",
              "25%                               0.000000   \n",
              "50%                               1.000000   \n",
              "75%                               1.000000   \n",
              "max                               1.000000   \n",
              "\n",
              "       Skill differentiation vs job differentiation  \\\n",
              "count                                   5615.000000   \n",
              "mean                                       0.364559   \n",
              "std                                        0.481349   \n",
              "min                                        0.000000   \n",
              "25%                                        0.000000   \n",
              "50%                                        0.000000   \n",
              "75%                                        1.000000   \n",
              "max                                        1.000000   \n",
              "\n",
              "       Likelihood of retention for 3 years  Strong Colleague Network  \n",
              "count                          5615.000000               5615.000000  \n",
              "mean                              3.664292                  3.619768  \n",
              "std                               1.050064                  0.956779  \n",
              "min                               1.000000                  1.000000  \n",
              "25%                               3.000000                  3.000000  \n",
              "50%                               4.000000                  4.000000  \n",
              "75%                               4.000000                  4.000000  \n",
              "max                               5.000000                  5.000000  "
            ],
            "text/html": [
              "\n",
              "  <div id=\"df-e30ba006-f2c3-4ecf-8074-39aff2917314\">\n",
              "    <div class=\"colab-df-container\">\n",
              "      <div>\n",
              "<style scoped>\n",
              "    .dataframe tbody tr th:only-of-type {\n",
              "        vertical-align: middle;\n",
              "    }\n",
              "\n",
              "    .dataframe tbody tr th {\n",
              "        vertical-align: top;\n",
              "    }\n",
              "\n",
              "    .dataframe thead th {\n",
              "        text-align: right;\n",
              "    }\n",
              "</style>\n",
              "<table border=\"1\" class=\"dataframe\">\n",
              "  <thead>\n",
              "    <tr style=\"text-align: right;\">\n",
              "      <th></th>\n",
              "      <th>Internal Parity</th>\n",
              "      <th>External Parity</th>\n",
              "      <th>Desired Delta\\nBase Pay</th>\n",
              "      <th>External Parity desired at inception</th>\n",
              "      <th>Larger Pay Range</th>\n",
              "      <th>Percentage increase vs absolute pay</th>\n",
              "      <th>Skill differentiation vs job differentiation</th>\n",
              "      <th>Likelihood of retention for 3 years</th>\n",
              "      <th>Strong Colleague Network</th>\n",
              "    </tr>\n",
              "  </thead>\n",
              "  <tbody>\n",
              "    <tr>\n",
              "      <th>count</th>\n",
              "      <td>5615.000000</td>\n",
              "      <td>5615.000000</td>\n",
              "      <td>5615.000000</td>\n",
              "      <td>5615.000000</td>\n",
              "      <td>5615.000000</td>\n",
              "      <td>5615.000000</td>\n",
              "      <td>5615.000000</td>\n",
              "      <td>5615.000000</td>\n",
              "      <td>5615.000000</td>\n",
              "    </tr>\n",
              "    <tr>\n",
              "      <th>mean</th>\n",
              "      <td>0.325557</td>\n",
              "      <td>0.261264</td>\n",
              "      <td>30.882814</td>\n",
              "      <td>0.344791</td>\n",
              "      <td>0.374711</td>\n",
              "      <td>0.599288</td>\n",
              "      <td>0.364559</td>\n",
              "      <td>3.664292</td>\n",
              "      <td>3.619768</td>\n",
              "    </tr>\n",
              "    <tr>\n",
              "      <th>std</th>\n",
              "      <td>0.468624</td>\n",
              "      <td>0.439363</td>\n",
              "      <td>13.551580</td>\n",
              "      <td>0.475342</td>\n",
              "      <td>0.484091</td>\n",
              "      <td>0.490086</td>\n",
              "      <td>0.481349</td>\n",
              "      <td>1.050064</td>\n",
              "      <td>0.956779</td>\n",
              "    </tr>\n",
              "    <tr>\n",
              "      <th>min</th>\n",
              "      <td>0.000000</td>\n",
              "      <td>0.000000</td>\n",
              "      <td>5.000000</td>\n",
              "      <td>0.000000</td>\n",
              "      <td>0.000000</td>\n",
              "      <td>0.000000</td>\n",
              "      <td>0.000000</td>\n",
              "      <td>1.000000</td>\n",
              "      <td>1.000000</td>\n",
              "    </tr>\n",
              "    <tr>\n",
              "      <th>25%</th>\n",
              "      <td>0.000000</td>\n",
              "      <td>0.000000</td>\n",
              "      <td>25.000000</td>\n",
              "      <td>0.000000</td>\n",
              "      <td>0.000000</td>\n",
              "      <td>0.000000</td>\n",
              "      <td>0.000000</td>\n",
              "      <td>3.000000</td>\n",
              "      <td>3.000000</td>\n",
              "    </tr>\n",
              "    <tr>\n",
              "      <th>50%</th>\n",
              "      <td>0.000000</td>\n",
              "      <td>0.000000</td>\n",
              "      <td>38.000000</td>\n",
              "      <td>0.000000</td>\n",
              "      <td>0.000000</td>\n",
              "      <td>1.000000</td>\n",
              "      <td>0.000000</td>\n",
              "      <td>4.000000</td>\n",
              "      <td>4.000000</td>\n",
              "    </tr>\n",
              "    <tr>\n",
              "      <th>75%</th>\n",
              "      <td>1.000000</td>\n",
              "      <td>1.000000</td>\n",
              "      <td>38.000000</td>\n",
              "      <td>1.000000</td>\n",
              "      <td>1.000000</td>\n",
              "      <td>1.000000</td>\n",
              "      <td>1.000000</td>\n",
              "      <td>4.000000</td>\n",
              "      <td>4.000000</td>\n",
              "    </tr>\n",
              "    <tr>\n",
              "      <th>max</th>\n",
              "      <td>1.000000</td>\n",
              "      <td>1.000000</td>\n",
              "      <td>45.000000</td>\n",
              "      <td>1.000000</td>\n",
              "      <td>1.000000</td>\n",
              "      <td>1.000000</td>\n",
              "      <td>1.000000</td>\n",
              "      <td>5.000000</td>\n",
              "      <td>5.000000</td>\n",
              "    </tr>\n",
              "  </tbody>\n",
              "</table>\n",
              "</div>\n",
              "      <button class=\"colab-df-convert\" onclick=\"convertToInteractive('df-e30ba006-f2c3-4ecf-8074-39aff2917314')\"\n",
              "              title=\"Convert this dataframe to an interactive table.\"\n",
              "              style=\"display:none;\">\n",
              "        \n",
              "  <svg xmlns=\"http://www.w3.org/2000/svg\" height=\"24px\"viewBox=\"0 0 24 24\"\n",
              "       width=\"24px\">\n",
              "    <path d=\"M0 0h24v24H0V0z\" fill=\"none\"/>\n",
              "    <path d=\"M18.56 5.44l.94 2.06.94-2.06 2.06-.94-2.06-.94-.94-2.06-.94 2.06-2.06.94zm-11 1L8.5 8.5l.94-2.06 2.06-.94-2.06-.94L8.5 2.5l-.94 2.06-2.06.94zm10 10l.94 2.06.94-2.06 2.06-.94-2.06-.94-.94-2.06-.94 2.06-2.06.94z\"/><path d=\"M17.41 7.96l-1.37-1.37c-.4-.4-.92-.59-1.43-.59-.52 0-1.04.2-1.43.59L10.3 9.45l-7.72 7.72c-.78.78-.78 2.05 0 2.83L4 21.41c.39.39.9.59 1.41.59.51 0 1.02-.2 1.41-.59l7.78-7.78 2.81-2.81c.8-.78.8-2.07 0-2.86zM5.41 20L4 18.59l7.72-7.72 1.47 1.35L5.41 20z\"/>\n",
              "  </svg>\n",
              "      </button>\n",
              "      \n",
              "  <style>\n",
              "    .colab-df-container {\n",
              "      display:flex;\n",
              "      flex-wrap:wrap;\n",
              "      gap: 12px;\n",
              "    }\n",
              "\n",
              "    .colab-df-convert {\n",
              "      background-color: #E8F0FE;\n",
              "      border: none;\n",
              "      border-radius: 50%;\n",
              "      cursor: pointer;\n",
              "      display: none;\n",
              "      fill: #1967D2;\n",
              "      height: 32px;\n",
              "      padding: 0 0 0 0;\n",
              "      width: 32px;\n",
              "    }\n",
              "\n",
              "    .colab-df-convert:hover {\n",
              "      background-color: #E2EBFA;\n",
              "      box-shadow: 0px 1px 2px rgba(60, 64, 67, 0.3), 0px 1px 3px 1px rgba(60, 64, 67, 0.15);\n",
              "      fill: #174EA6;\n",
              "    }\n",
              "\n",
              "    [theme=dark] .colab-df-convert {\n",
              "      background-color: #3B4455;\n",
              "      fill: #D2E3FC;\n",
              "    }\n",
              "\n",
              "    [theme=dark] .colab-df-convert:hover {\n",
              "      background-color: #434B5C;\n",
              "      box-shadow: 0px 1px 3px 1px rgba(0, 0, 0, 0.15);\n",
              "      filter: drop-shadow(0px 1px 2px rgba(0, 0, 0, 0.3));\n",
              "      fill: #FFFFFF;\n",
              "    }\n",
              "  </style>\n",
              "\n",
              "      <script>\n",
              "        const buttonEl =\n",
              "          document.querySelector('#df-e30ba006-f2c3-4ecf-8074-39aff2917314 button.colab-df-convert');\n",
              "        buttonEl.style.display =\n",
              "          google.colab.kernel.accessAllowed ? 'block' : 'none';\n",
              "\n",
              "        async function convertToInteractive(key) {\n",
              "          const element = document.querySelector('#df-e30ba006-f2c3-4ecf-8074-39aff2917314');\n",
              "          const dataTable =\n",
              "            await google.colab.kernel.invokeFunction('convertToInteractive',\n",
              "                                                     [key], {});\n",
              "          if (!dataTable) return;\n",
              "\n",
              "          const docLinkHtml = 'Like what you see? Visit the ' +\n",
              "            '<a target=\"_blank\" href=https://colab.research.google.com/notebooks/data_table.ipynb>data table notebook</a>'\n",
              "            + ' to learn more about interactive tables.';\n",
              "          element.innerHTML = '';\n",
              "          dataTable['output_type'] = 'display_data';\n",
              "          await google.colab.output.renderOutput(dataTable, element);\n",
              "          const docLink = document.createElement('div');\n",
              "          docLink.innerHTML = docLinkHtml;\n",
              "          element.appendChild(docLink);\n",
              "        }\n",
              "      </script>\n",
              "    </div>\n",
              "  </div>\n",
              "  "
            ]
          },
          "metadata": {},
          "execution_count": 184
        }
      ]
    },
    {
      "cell_type": "code",
      "source": [
        "X=df"
      ],
      "metadata": {
        "id": "pFu59o__iokY"
      },
      "execution_count": 185,
      "outputs": []
    },
    {
      "cell_type": "markdown",
      "source": [
        "Scaling"
      ],
      "metadata": {
        "id": "iW70e3pDirgC"
      }
    },
    {
      "cell_type": "code",
      "source": [
        "cols = X.columns"
      ],
      "metadata": {
        "id": "PIRIZwSzis72"
      },
      "execution_count": 186,
      "outputs": []
    },
    {
      "cell_type": "code",
      "source": [
        "from sklearn.preprocessing import MinMaxScaler\n",
        "\n",
        "ms = MinMaxScaler()\n",
        "\n",
        "X = ms.fit_transform(X)"
      ],
      "metadata": {
        "id": "HIo-w3hxi3F5"
      },
      "execution_count": 187,
      "outputs": []
    },
    {
      "cell_type": "code",
      "source": [
        "X = pd.DataFrame(X, columns=[cols])"
      ],
      "metadata": {
        "id": "ktbC6Y7cjBDP"
      },
      "execution_count": 188,
      "outputs": []
    },
    {
      "cell_type": "code",
      "source": [
        "X.head()"
      ],
      "metadata": {
        "colab": {
          "base_uri": "https://localhost:8080/",
          "height": 320
        },
        "id": "uaFVzLGCjFSG",
        "outputId": "d93b220e-b0c4-4aa4-abe2-00f7a3a87fa2"
      },
      "execution_count": 189,
      "outputs": [
        {
          "output_type": "execute_result",
          "data": {
            "text/plain": [
              "  Internal Parity External Parity Desired Delta\\nBase Pay  \\\n",
              "0             0.0             1.0                   0.825   \n",
              "1             0.0             0.0                   0.825   \n",
              "2             0.0             0.0                   0.825   \n",
              "3             1.0             0.0                   0.825   \n",
              "4             0.0             0.0                   0.825   \n",
              "\n",
              "  External Parity desired at inception Larger Pay Range  \\\n",
              "0                                  0.0              1.0   \n",
              "1                                  0.0              0.0   \n",
              "2                                  0.0              1.0   \n",
              "3                                  0.0              1.0   \n",
              "4                                  1.0              0.0   \n",
              "\n",
              "  Percentage increase vs absolute pay  \\\n",
              "0                                 0.0   \n",
              "1                                 1.0   \n",
              "2                                 1.0   \n",
              "3                                 1.0   \n",
              "4                                 0.0   \n",
              "\n",
              "  Skill differentiation vs job differentiation  \\\n",
              "0                                          0.0   \n",
              "1                                          1.0   \n",
              "2                                          0.0   \n",
              "3                                          0.0   \n",
              "4                                          1.0   \n",
              "\n",
              "  Likelihood of retention for 3 years Strong Colleague Network  \n",
              "0                                0.75                     0.75  \n",
              "1                                0.75                     0.75  \n",
              "2                                0.50                     0.50  \n",
              "3                                0.75                     0.75  \n",
              "4                                0.75                     0.75  "
            ],
            "text/html": [
              "\n",
              "  <div id=\"df-7d19a206-6bcc-4fe9-ab05-b1465ba8bda9\">\n",
              "    <div class=\"colab-df-container\">\n",
              "      <div>\n",
              "<style scoped>\n",
              "    .dataframe tbody tr th:only-of-type {\n",
              "        vertical-align: middle;\n",
              "    }\n",
              "\n",
              "    .dataframe tbody tr th {\n",
              "        vertical-align: top;\n",
              "    }\n",
              "\n",
              "    .dataframe thead tr th {\n",
              "        text-align: left;\n",
              "    }\n",
              "</style>\n",
              "<table border=\"1\" class=\"dataframe\">\n",
              "  <thead>\n",
              "    <tr>\n",
              "      <th></th>\n",
              "      <th>Internal Parity</th>\n",
              "      <th>External Parity</th>\n",
              "      <th>Desired Delta\\nBase Pay</th>\n",
              "      <th>External Parity desired at inception</th>\n",
              "      <th>Larger Pay Range</th>\n",
              "      <th>Percentage increase vs absolute pay</th>\n",
              "      <th>Skill differentiation vs job differentiation</th>\n",
              "      <th>Likelihood of retention for 3 years</th>\n",
              "      <th>Strong Colleague Network</th>\n",
              "    </tr>\n",
              "  </thead>\n",
              "  <tbody>\n",
              "    <tr>\n",
              "      <th>0</th>\n",
              "      <td>0.0</td>\n",
              "      <td>1.0</td>\n",
              "      <td>0.825</td>\n",
              "      <td>0.0</td>\n",
              "      <td>1.0</td>\n",
              "      <td>0.0</td>\n",
              "      <td>0.0</td>\n",
              "      <td>0.75</td>\n",
              "      <td>0.75</td>\n",
              "    </tr>\n",
              "    <tr>\n",
              "      <th>1</th>\n",
              "      <td>0.0</td>\n",
              "      <td>0.0</td>\n",
              "      <td>0.825</td>\n",
              "      <td>0.0</td>\n",
              "      <td>0.0</td>\n",
              "      <td>1.0</td>\n",
              "      <td>1.0</td>\n",
              "      <td>0.75</td>\n",
              "      <td>0.75</td>\n",
              "    </tr>\n",
              "    <tr>\n",
              "      <th>2</th>\n",
              "      <td>0.0</td>\n",
              "      <td>0.0</td>\n",
              "      <td>0.825</td>\n",
              "      <td>0.0</td>\n",
              "      <td>1.0</td>\n",
              "      <td>1.0</td>\n",
              "      <td>0.0</td>\n",
              "      <td>0.50</td>\n",
              "      <td>0.50</td>\n",
              "    </tr>\n",
              "    <tr>\n",
              "      <th>3</th>\n",
              "      <td>1.0</td>\n",
              "      <td>0.0</td>\n",
              "      <td>0.825</td>\n",
              "      <td>0.0</td>\n",
              "      <td>1.0</td>\n",
              "      <td>1.0</td>\n",
              "      <td>0.0</td>\n",
              "      <td>0.75</td>\n",
              "      <td>0.75</td>\n",
              "    </tr>\n",
              "    <tr>\n",
              "      <th>4</th>\n",
              "      <td>0.0</td>\n",
              "      <td>0.0</td>\n",
              "      <td>0.825</td>\n",
              "      <td>1.0</td>\n",
              "      <td>0.0</td>\n",
              "      <td>0.0</td>\n",
              "      <td>1.0</td>\n",
              "      <td>0.75</td>\n",
              "      <td>0.75</td>\n",
              "    </tr>\n",
              "  </tbody>\n",
              "</table>\n",
              "</div>\n",
              "      <button class=\"colab-df-convert\" onclick=\"convertToInteractive('df-7d19a206-6bcc-4fe9-ab05-b1465ba8bda9')\"\n",
              "              title=\"Convert this dataframe to an interactive table.\"\n",
              "              style=\"display:none;\">\n",
              "        \n",
              "  <svg xmlns=\"http://www.w3.org/2000/svg\" height=\"24px\"viewBox=\"0 0 24 24\"\n",
              "       width=\"24px\">\n",
              "    <path d=\"M0 0h24v24H0V0z\" fill=\"none\"/>\n",
              "    <path d=\"M18.56 5.44l.94 2.06.94-2.06 2.06-.94-2.06-.94-.94-2.06-.94 2.06-2.06.94zm-11 1L8.5 8.5l.94-2.06 2.06-.94-2.06-.94L8.5 2.5l-.94 2.06-2.06.94zm10 10l.94 2.06.94-2.06 2.06-.94-2.06-.94-.94-2.06-.94 2.06-2.06.94z\"/><path d=\"M17.41 7.96l-1.37-1.37c-.4-.4-.92-.59-1.43-.59-.52 0-1.04.2-1.43.59L10.3 9.45l-7.72 7.72c-.78.78-.78 2.05 0 2.83L4 21.41c.39.39.9.59 1.41.59.51 0 1.02-.2 1.41-.59l7.78-7.78 2.81-2.81c.8-.78.8-2.07 0-2.86zM5.41 20L4 18.59l7.72-7.72 1.47 1.35L5.41 20z\"/>\n",
              "  </svg>\n",
              "      </button>\n",
              "      \n",
              "  <style>\n",
              "    .colab-df-container {\n",
              "      display:flex;\n",
              "      flex-wrap:wrap;\n",
              "      gap: 12px;\n",
              "    }\n",
              "\n",
              "    .colab-df-convert {\n",
              "      background-color: #E8F0FE;\n",
              "      border: none;\n",
              "      border-radius: 50%;\n",
              "      cursor: pointer;\n",
              "      display: none;\n",
              "      fill: #1967D2;\n",
              "      height: 32px;\n",
              "      padding: 0 0 0 0;\n",
              "      width: 32px;\n",
              "    }\n",
              "\n",
              "    .colab-df-convert:hover {\n",
              "      background-color: #E2EBFA;\n",
              "      box-shadow: 0px 1px 2px rgba(60, 64, 67, 0.3), 0px 1px 3px 1px rgba(60, 64, 67, 0.15);\n",
              "      fill: #174EA6;\n",
              "    }\n",
              "\n",
              "    [theme=dark] .colab-df-convert {\n",
              "      background-color: #3B4455;\n",
              "      fill: #D2E3FC;\n",
              "    }\n",
              "\n",
              "    [theme=dark] .colab-df-convert:hover {\n",
              "      background-color: #434B5C;\n",
              "      box-shadow: 0px 1px 3px 1px rgba(0, 0, 0, 0.15);\n",
              "      filter: drop-shadow(0px 1px 2px rgba(0, 0, 0, 0.3));\n",
              "      fill: #FFFFFF;\n",
              "    }\n",
              "  </style>\n",
              "\n",
              "      <script>\n",
              "        const buttonEl =\n",
              "          document.querySelector('#df-7d19a206-6bcc-4fe9-ab05-b1465ba8bda9 button.colab-df-convert');\n",
              "        buttonEl.style.display =\n",
              "          google.colab.kernel.accessAllowed ? 'block' : 'none';\n",
              "\n",
              "        async function convertToInteractive(key) {\n",
              "          const element = document.querySelector('#df-7d19a206-6bcc-4fe9-ab05-b1465ba8bda9');\n",
              "          const dataTable =\n",
              "            await google.colab.kernel.invokeFunction('convertToInteractive',\n",
              "                                                     [key], {});\n",
              "          if (!dataTable) return;\n",
              "\n",
              "          const docLinkHtml = 'Like what you see? Visit the ' +\n",
              "            '<a target=\"_blank\" href=https://colab.research.google.com/notebooks/data_table.ipynb>data table notebook</a>'\n",
              "            + ' to learn more about interactive tables.';\n",
              "          element.innerHTML = '';\n",
              "          dataTable['output_type'] = 'display_data';\n",
              "          await google.colab.output.renderOutput(dataTable, element);\n",
              "          const docLink = document.createElement('div');\n",
              "          docLink.innerHTML = docLinkHtml;\n",
              "          element.appendChild(docLink);\n",
              "        }\n",
              "      </script>\n",
              "    </div>\n",
              "  </div>\n",
              "  "
            ]
          },
          "metadata": {},
          "execution_count": 189
        }
      ]
    },
    {
      "cell_type": "code",
      "source": [
        "X.dropna(inplace=True)\n",
        "X"
      ],
      "metadata": {
        "colab": {
          "base_uri": "https://localhost:8080/",
          "height": 537
        },
        "id": "q1-8oeRZmL65",
        "outputId": "100dab1d-cd23-4cfa-9a9a-f775d686f46e"
      },
      "execution_count": 190,
      "outputs": [
        {
          "output_type": "execute_result",
          "data": {
            "text/plain": [
              "     Internal Parity External Parity Desired Delta\\nBase Pay  \\\n",
              "0                0.0             1.0                   0.825   \n",
              "1                0.0             0.0                   0.825   \n",
              "2                0.0             0.0                   0.825   \n",
              "3                1.0             0.0                   0.825   \n",
              "4                0.0             0.0                   0.825   \n",
              "...              ...             ...                     ...   \n",
              "5610             0.0             0.0                   0.250   \n",
              "5611             0.0             0.0                   0.000   \n",
              "5612             0.0             0.0                   0.250   \n",
              "5613             1.0             0.0                   0.825   \n",
              "5614             0.0             0.0                   1.000   \n",
              "\n",
              "     External Parity desired at inception Larger Pay Range  \\\n",
              "0                                     0.0              1.0   \n",
              "1                                     0.0              0.0   \n",
              "2                                     0.0              1.0   \n",
              "3                                     0.0              1.0   \n",
              "4                                     1.0              0.0   \n",
              "...                                   ...              ...   \n",
              "5610                                  1.0              0.0   \n",
              "5611                                  0.0              1.0   \n",
              "5612                                  0.0              1.0   \n",
              "5613                                  0.0              1.0   \n",
              "5614                                  0.0              1.0   \n",
              "\n",
              "     Percentage increase vs absolute pay  \\\n",
              "0                                    0.0   \n",
              "1                                    1.0   \n",
              "2                                    1.0   \n",
              "3                                    1.0   \n",
              "4                                    0.0   \n",
              "...                                  ...   \n",
              "5610                                 0.0   \n",
              "5611                                 1.0   \n",
              "5612                                 1.0   \n",
              "5613                                 1.0   \n",
              "5614                                 1.0   \n",
              "\n",
              "     Skill differentiation vs job differentiation  \\\n",
              "0                                             0.0   \n",
              "1                                             1.0   \n",
              "2                                             0.0   \n",
              "3                                             0.0   \n",
              "4                                             1.0   \n",
              "...                                           ...   \n",
              "5610                                          0.0   \n",
              "5611                                          0.0   \n",
              "5612                                          1.0   \n",
              "5613                                          1.0   \n",
              "5614                                          0.0   \n",
              "\n",
              "     Likelihood of retention for 3 years Strong Colleague Network  \n",
              "0                                   0.75                     0.75  \n",
              "1                                   0.75                     0.75  \n",
              "2                                   0.50                     0.50  \n",
              "3                                   0.75                     0.75  \n",
              "4                                   0.75                     0.75  \n",
              "...                                  ...                      ...  \n",
              "5610                                0.25                     0.50  \n",
              "5611                                0.50                     0.50  \n",
              "5612                                1.00                     1.00  \n",
              "5613                                0.75                     0.50  \n",
              "5614                                0.75                     1.00  \n",
              "\n",
              "[5615 rows x 9 columns]"
            ],
            "text/html": [
              "\n",
              "  <div id=\"df-0cfe6d93-9aab-4cff-9460-7a9a756e237b\">\n",
              "    <div class=\"colab-df-container\">\n",
              "      <div>\n",
              "<style scoped>\n",
              "    .dataframe tbody tr th:only-of-type {\n",
              "        vertical-align: middle;\n",
              "    }\n",
              "\n",
              "    .dataframe tbody tr th {\n",
              "        vertical-align: top;\n",
              "    }\n",
              "\n",
              "    .dataframe thead tr th {\n",
              "        text-align: left;\n",
              "    }\n",
              "</style>\n",
              "<table border=\"1\" class=\"dataframe\">\n",
              "  <thead>\n",
              "    <tr>\n",
              "      <th></th>\n",
              "      <th>Internal Parity</th>\n",
              "      <th>External Parity</th>\n",
              "      <th>Desired Delta\\nBase Pay</th>\n",
              "      <th>External Parity desired at inception</th>\n",
              "      <th>Larger Pay Range</th>\n",
              "      <th>Percentage increase vs absolute pay</th>\n",
              "      <th>Skill differentiation vs job differentiation</th>\n",
              "      <th>Likelihood of retention for 3 years</th>\n",
              "      <th>Strong Colleague Network</th>\n",
              "    </tr>\n",
              "  </thead>\n",
              "  <tbody>\n",
              "    <tr>\n",
              "      <th>0</th>\n",
              "      <td>0.0</td>\n",
              "      <td>1.0</td>\n",
              "      <td>0.825</td>\n",
              "      <td>0.0</td>\n",
              "      <td>1.0</td>\n",
              "      <td>0.0</td>\n",
              "      <td>0.0</td>\n",
              "      <td>0.75</td>\n",
              "      <td>0.75</td>\n",
              "    </tr>\n",
              "    <tr>\n",
              "      <th>1</th>\n",
              "      <td>0.0</td>\n",
              "      <td>0.0</td>\n",
              "      <td>0.825</td>\n",
              "      <td>0.0</td>\n",
              "      <td>0.0</td>\n",
              "      <td>1.0</td>\n",
              "      <td>1.0</td>\n",
              "      <td>0.75</td>\n",
              "      <td>0.75</td>\n",
              "    </tr>\n",
              "    <tr>\n",
              "      <th>2</th>\n",
              "      <td>0.0</td>\n",
              "      <td>0.0</td>\n",
              "      <td>0.825</td>\n",
              "      <td>0.0</td>\n",
              "      <td>1.0</td>\n",
              "      <td>1.0</td>\n",
              "      <td>0.0</td>\n",
              "      <td>0.50</td>\n",
              "      <td>0.50</td>\n",
              "    </tr>\n",
              "    <tr>\n",
              "      <th>3</th>\n",
              "      <td>1.0</td>\n",
              "      <td>0.0</td>\n",
              "      <td>0.825</td>\n",
              "      <td>0.0</td>\n",
              "      <td>1.0</td>\n",
              "      <td>1.0</td>\n",
              "      <td>0.0</td>\n",
              "      <td>0.75</td>\n",
              "      <td>0.75</td>\n",
              "    </tr>\n",
              "    <tr>\n",
              "      <th>4</th>\n",
              "      <td>0.0</td>\n",
              "      <td>0.0</td>\n",
              "      <td>0.825</td>\n",
              "      <td>1.0</td>\n",
              "      <td>0.0</td>\n",
              "      <td>0.0</td>\n",
              "      <td>1.0</td>\n",
              "      <td>0.75</td>\n",
              "      <td>0.75</td>\n",
              "    </tr>\n",
              "    <tr>\n",
              "      <th>...</th>\n",
              "      <td>...</td>\n",
              "      <td>...</td>\n",
              "      <td>...</td>\n",
              "      <td>...</td>\n",
              "      <td>...</td>\n",
              "      <td>...</td>\n",
              "      <td>...</td>\n",
              "      <td>...</td>\n",
              "      <td>...</td>\n",
              "    </tr>\n",
              "    <tr>\n",
              "      <th>5610</th>\n",
              "      <td>0.0</td>\n",
              "      <td>0.0</td>\n",
              "      <td>0.250</td>\n",
              "      <td>1.0</td>\n",
              "      <td>0.0</td>\n",
              "      <td>0.0</td>\n",
              "      <td>0.0</td>\n",
              "      <td>0.25</td>\n",
              "      <td>0.50</td>\n",
              "    </tr>\n",
              "    <tr>\n",
              "      <th>5611</th>\n",
              "      <td>0.0</td>\n",
              "      <td>0.0</td>\n",
              "      <td>0.000</td>\n",
              "      <td>0.0</td>\n",
              "      <td>1.0</td>\n",
              "      <td>1.0</td>\n",
              "      <td>0.0</td>\n",
              "      <td>0.50</td>\n",
              "      <td>0.50</td>\n",
              "    </tr>\n",
              "    <tr>\n",
              "      <th>5612</th>\n",
              "      <td>0.0</td>\n",
              "      <td>0.0</td>\n",
              "      <td>0.250</td>\n",
              "      <td>0.0</td>\n",
              "      <td>1.0</td>\n",
              "      <td>1.0</td>\n",
              "      <td>1.0</td>\n",
              "      <td>1.00</td>\n",
              "      <td>1.00</td>\n",
              "    </tr>\n",
              "    <tr>\n",
              "      <th>5613</th>\n",
              "      <td>1.0</td>\n",
              "      <td>0.0</td>\n",
              "      <td>0.825</td>\n",
              "      <td>0.0</td>\n",
              "      <td>1.0</td>\n",
              "      <td>1.0</td>\n",
              "      <td>1.0</td>\n",
              "      <td>0.75</td>\n",
              "      <td>0.50</td>\n",
              "    </tr>\n",
              "    <tr>\n",
              "      <th>5614</th>\n",
              "      <td>0.0</td>\n",
              "      <td>0.0</td>\n",
              "      <td>1.000</td>\n",
              "      <td>0.0</td>\n",
              "      <td>1.0</td>\n",
              "      <td>1.0</td>\n",
              "      <td>0.0</td>\n",
              "      <td>0.75</td>\n",
              "      <td>1.00</td>\n",
              "    </tr>\n",
              "  </tbody>\n",
              "</table>\n",
              "<p>5615 rows × 9 columns</p>\n",
              "</div>\n",
              "      <button class=\"colab-df-convert\" onclick=\"convertToInteractive('df-0cfe6d93-9aab-4cff-9460-7a9a756e237b')\"\n",
              "              title=\"Convert this dataframe to an interactive table.\"\n",
              "              style=\"display:none;\">\n",
              "        \n",
              "  <svg xmlns=\"http://www.w3.org/2000/svg\" height=\"24px\"viewBox=\"0 0 24 24\"\n",
              "       width=\"24px\">\n",
              "    <path d=\"M0 0h24v24H0V0z\" fill=\"none\"/>\n",
              "    <path d=\"M18.56 5.44l.94 2.06.94-2.06 2.06-.94-2.06-.94-.94-2.06-.94 2.06-2.06.94zm-11 1L8.5 8.5l.94-2.06 2.06-.94-2.06-.94L8.5 2.5l-.94 2.06-2.06.94zm10 10l.94 2.06.94-2.06 2.06-.94-2.06-.94-.94-2.06-.94 2.06-2.06.94z\"/><path d=\"M17.41 7.96l-1.37-1.37c-.4-.4-.92-.59-1.43-.59-.52 0-1.04.2-1.43.59L10.3 9.45l-7.72 7.72c-.78.78-.78 2.05 0 2.83L4 21.41c.39.39.9.59 1.41.59.51 0 1.02-.2 1.41-.59l7.78-7.78 2.81-2.81c.8-.78.8-2.07 0-2.86zM5.41 20L4 18.59l7.72-7.72 1.47 1.35L5.41 20z\"/>\n",
              "  </svg>\n",
              "      </button>\n",
              "      \n",
              "  <style>\n",
              "    .colab-df-container {\n",
              "      display:flex;\n",
              "      flex-wrap:wrap;\n",
              "      gap: 12px;\n",
              "    }\n",
              "\n",
              "    .colab-df-convert {\n",
              "      background-color: #E8F0FE;\n",
              "      border: none;\n",
              "      border-radius: 50%;\n",
              "      cursor: pointer;\n",
              "      display: none;\n",
              "      fill: #1967D2;\n",
              "      height: 32px;\n",
              "      padding: 0 0 0 0;\n",
              "      width: 32px;\n",
              "    }\n",
              "\n",
              "    .colab-df-convert:hover {\n",
              "      background-color: #E2EBFA;\n",
              "      box-shadow: 0px 1px 2px rgba(60, 64, 67, 0.3), 0px 1px 3px 1px rgba(60, 64, 67, 0.15);\n",
              "      fill: #174EA6;\n",
              "    }\n",
              "\n",
              "    [theme=dark] .colab-df-convert {\n",
              "      background-color: #3B4455;\n",
              "      fill: #D2E3FC;\n",
              "    }\n",
              "\n",
              "    [theme=dark] .colab-df-convert:hover {\n",
              "      background-color: #434B5C;\n",
              "      box-shadow: 0px 1px 3px 1px rgba(0, 0, 0, 0.15);\n",
              "      filter: drop-shadow(0px 1px 2px rgba(0, 0, 0, 0.3));\n",
              "      fill: #FFFFFF;\n",
              "    }\n",
              "  </style>\n",
              "\n",
              "      <script>\n",
              "        const buttonEl =\n",
              "          document.querySelector('#df-0cfe6d93-9aab-4cff-9460-7a9a756e237b button.colab-df-convert');\n",
              "        buttonEl.style.display =\n",
              "          google.colab.kernel.accessAllowed ? 'block' : 'none';\n",
              "\n",
              "        async function convertToInteractive(key) {\n",
              "          const element = document.querySelector('#df-0cfe6d93-9aab-4cff-9460-7a9a756e237b');\n",
              "          const dataTable =\n",
              "            await google.colab.kernel.invokeFunction('convertToInteractive',\n",
              "                                                     [key], {});\n",
              "          if (!dataTable) return;\n",
              "\n",
              "          const docLinkHtml = 'Like what you see? Visit the ' +\n",
              "            '<a target=\"_blank\" href=https://colab.research.google.com/notebooks/data_table.ipynb>data table notebook</a>'\n",
              "            + ' to learn more about interactive tables.';\n",
              "          element.innerHTML = '';\n",
              "          dataTable['output_type'] = 'display_data';\n",
              "          await google.colab.output.renderOutput(dataTable, element);\n",
              "          const docLink = document.createElement('div');\n",
              "          docLink.innerHTML = docLinkHtml;\n",
              "          element.appendChild(docLink);\n",
              "        }\n",
              "      </script>\n",
              "    </div>\n",
              "  </div>\n",
              "  "
            ]
          },
          "metadata": {},
          "execution_count": 190
        }
      ]
    },
    {
      "cell_type": "markdown",
      "source": [
        "K means"
      ],
      "metadata": {
        "id": "pD0fMwj4lsb-"
      }
    },
    {
      "cell_type": "code",
      "source": [
        "# 2 cluster\n",
        "from sklearn.cluster import KMeans\n",
        "\n",
        "kmeans = KMeans(n_clusters=2, random_state=0) \n",
        "\n",
        "kmeans.fit(X)"
      ],
      "metadata": {
        "colab": {
          "base_uri": "https://localhost:8080/"
        },
        "id": "uAaYfhvwltU-",
        "outputId": "2122c481-7dd7-40c2-9378-5b9f3098e66b"
      },
      "execution_count": 191,
      "outputs": [
        {
          "output_type": "execute_result",
          "data": {
            "text/plain": [
              "KMeans(n_clusters=2, random_state=0)"
            ]
          },
          "metadata": {},
          "execution_count": 191
        }
      ]
    },
    {
      "cell_type": "markdown",
      "source": [
        "centers"
      ],
      "metadata": {
        "id": "0Py24NAynFnU"
      }
    },
    {
      "cell_type": "code",
      "source": [
        "kmeans.cluster_centers_"
      ],
      "metadata": {
        "colab": {
          "base_uri": "https://localhost:8080/"
        },
        "id": "LtWm5_FgnGuB",
        "outputId": "63604865-d0ce-4a7e-e9f0-a10c22198e35"
      },
      "execution_count": 165,
      "outputs": [
        {
          "output_type": "execute_result",
          "data": {
            "text/plain": [
              "array([[ 1.36592051e-01,  4.31703974e-01, -3.66373598e-15,\n",
              "         3.28917314e-02,  2.73184102e-01,  6.44129740e-02,\n",
              "         6.12151667e-02,  2.68809921e-01,  5.91724858e-02,\n",
              "         5.03997259e-01,  5.29237095e-01,  6.81932389e-01,\n",
              "         6.57035176e-01],\n",
              "       [ 0.00000000e+00,  3.88578059e-16,  1.00000000e+00,\n",
              "         2.63677968e-16,  0.00000000e+00, -4.78783679e-16,\n",
              "        -2.08166817e-16,  2.69285219e-01,  8.48363226e-02,\n",
              "         4.74978051e-01,  5.05926251e-01,  7.27392450e-01,\n",
              "         6.80640913e-01]])"
            ]
          },
          "metadata": {},
          "execution_count": 165
        }
      ]
    },
    {
      "cell_type": "markdown",
      "source": [],
      "metadata": {
        "id": "1-mRDFqynUuD"
      }
    },
    {
      "cell_type": "markdown",
      "source": [
        "inertia"
      ],
      "metadata": {
        "id": "gr7f2zRhnQwT"
      }
    },
    {
      "cell_type": "code",
      "source": [
        "kmeans.inertia_"
      ],
      "metadata": {
        "colab": {
          "base_uri": "https://localhost:8080/"
        },
        "id": "Q61AuJj-nSH7",
        "outputId": "8540c194-f9cb-4eb7-9423-d0d6b94e054c"
      },
      "execution_count": 192,
      "outputs": [
        {
          "output_type": "execute_result",
          "data": {
            "text/plain": [
              "7025.827657013099"
            ]
          },
          "metadata": {},
          "execution_count": 192
        }
      ]
    },
    {
      "cell_type": "markdown",
      "source": [
        "Elbow"
      ],
      "metadata": {
        "id": "7NsqjWQ_nWWA"
      }
    },
    {
      "cell_type": "code",
      "source": [
        "from sklearn.cluster import KMeans\n",
        "cs = []\n",
        "for i in range(1, 40):\n",
        "    kmeans = KMeans(n_clusters = i, init = 'k-means++', max_iter = 300, n_init = 10, random_state = 0)\n",
        "    kmeans.fit(X)\n",
        "    cs.append(kmeans.inertia_)\n",
        "plt.plot(range(1, 40), cs)\n",
        "plt.title('The Elbow Method')\n",
        "plt.xlabel('Number of clusters')\n",
        "plt.ylabel('CS')\n",
        "plt.show()"
      ],
      "metadata": {
        "colab": {
          "base_uri": "https://localhost:8080/",
          "height": 295
        },
        "id": "i3unur8Kngn0",
        "outputId": "2161017c-1267-4912-ad7c-8866b53c99da"
      },
      "execution_count": 193,
      "outputs": [
        {
          "output_type": "display_data",
          "data": {
            "text/plain": [
              "<Figure size 432x288 with 1 Axes>"
            ],
            "image/png": "[encoded data removed]"
          },
          "metadata": {
            "needs_background": "light"
          }
        }
      ]
    },
    {
      "cell_type": "code",
      "source": [
        "from sklearn.cluster import KMeans\n",
        "cs = []\n",
        "for i in range(1, 12):\n",
        "    kmeans = KMeans(n_clusters = i, init = 'k-means++', max_iter = 300, n_init = 10, random_state = 0)\n",
        "    kmeans.fit(X)\n",
        "    cs.append(kmeans.inertia_)\n",
        "plt.plot(range(1, 12), cs)\n",
        "plt.title('The Elbow Method')\n",
        "plt.xlabel('Number of clusters')\n",
        "plt.ylabel('CS')\n",
        "plt.show()"
      ],
      "metadata": {
        "colab": {
          "base_uri": "https://localhost:8080/",
          "height": 295
        },
        "id": "eoAjNAsYoIRW",
        "outputId": "5eb0dfce-4000-44b2-8b5b-33078daf46f0"
      },
      "execution_count": 194,
      "outputs": [
        {
          "output_type": "display_data",
          "data": {
            "text/plain": [
              "<Figure size 432x288 with 1 Axes>"
            ],
            "image/png": "[encoded data removed]"
          },
          "metadata": {
            "needs_background": "light"
          }
        }
      ]
    },
    {
      "cell_type": "markdown",
      "source": [
        "individual k mean"
      ],
      "metadata": {
        "id": "bu28_zTwoRQg"
      }
    },
    {
      "cell_type": "code",
      "source": [
        "from sklearn.cluster import KMeans\n",
        "\n",
        "kmeans = KMeans(n_clusters=7, random_state=0) \n",
        "\n",
        "kmeans.fit(X)"
      ],
      "metadata": {
        "colab": {
          "base_uri": "https://localhost:8080/"
        },
        "id": "ZFFq9LfooU3z",
        "outputId": "f6adbdca-0092-4df2-938a-7e2e228279eb"
      },
      "execution_count": 205,
      "outputs": [
        {
          "output_type": "execute_result",
          "data": {
            "text/plain": [
              "KMeans(n_clusters=7, random_state=0)"
            ]
          },
          "metadata": {},
          "execution_count": 205
        }
      ]
    },
    {
      "cell_type": "code",
      "source": [
        "labels=kmeans.labels_\n",
        "print(labels)"
      ],
      "metadata": {
        "colab": {
          "base_uri": "https://localhost:8080/"
        },
        "id": "dki1aUC_vEcG",
        "outputId": "a3a0f58c-fa25-4cee-a8d8-7a767aabfadc"
      },
      "execution_count": 206,
      "outputs": [
        {
          "output_type": "stream",
          "name": "stdout",
          "text": [
            "[6 1 5 ... 1 1 5]\n"
          ]
        }
      ]
    },
    {
      "cell_type": "code",
      "source": [
        "Z=kmeans.cluster_centers_\n",
        "Z"
      ],
      "metadata": {
        "colab": {
          "base_uri": "https://localhost:8080/"
        },
        "id": "9I9aadFtodjs",
        "outputId": "72ac84e8-f99c-44fb-d274-fddd482ef6bb"
      },
      "execution_count": 207,
      "outputs": [
        {
          "output_type": "execute_result",
          "data": {
            "text/plain": [
              "array([[ 1.00000000e+00,  1.00000000e+00,  6.40915594e-01,\n",
              "         4.14878398e-01, -1.66533454e-15,  6.45207439e-01,\n",
              "         3.80543634e-01,  7.72532189e-01,  7.09942775e-01],\n",
              "       [ 8.74568470e-02,  2.76179517e-02,  6.52704258e-01,\n",
              "         4.44089210e-16,  4.41887227e-01,  8.50402762e-01,\n",
              "         1.00000000e+00,  6.26869965e-01,  6.39528193e-01],\n",
              "       [ 1.24128312e-01,  2.23152022e-02,  6.36715481e-01,\n",
              "         1.00000000e+00,  2.45467225e-01,  1.00000000e+00,\n",
              "         3.70990237e-01,  6.33891213e-01,  6.37726639e-01],\n",
              "       [ 8.84831461e-02,  3.51123596e-02,  6.33356742e-01,\n",
              "         1.00000000e+00,  2.33146067e-01, -2.66453526e-15,\n",
              "         3.39887640e-01,  6.04634831e-01,  6.06390449e-01],\n",
              "       [ 8.74125874e-02,  1.98135198e-02,  6.58129371e-01,\n",
              "         2.77555756e-16,  2.69230769e-01, -3.66373598e-15,\n",
              "         2.42424242e-01,  6.13927739e-01,  6.35198135e-01],\n",
              "       [ 7.19499479e-02,  1.45985401e-02,  6.50547445e-01,\n",
              "         1.49880108e-15,  3.60792492e-01,  1.00000000e+00,\n",
              "         3.33066907e-16,  6.35297185e-01,  6.48852972e-01],\n",
              "       [ 9.45068664e-01,  8.38951311e-01,  6.51779026e-01,\n",
              "         2.70911361e-01,  1.00000000e+00,  6.22971286e-01,\n",
              "         2.44694132e-01,  7.91822722e-01,  7.10674157e-01]])"
            ]
          },
          "metadata": {},
          "execution_count": 207
        }
      ]
    },
    {
      "cell_type": "code",
      "source": [
        "\n",
        "tsne = TSNE(n_components=3, verbose=1, perplexity=80, n_iter=5000, learning_rate=200)\n",
        "tsne_scale_results = tsne.fit_transform(X)\n",
        "tsne_df_scale = pd.DataFrame(tsne_scale_results, columns=['tsne1', 'tsne2', 'tsne3'])\n",
        "plt.figure(figsize = (10,10))\n",
        "plt.scatter(tsne_df_scale.iloc[:,0],tsne_df_scale.iloc[:,1],alpha=0.25, facecolor='lightslategray')\n",
        "plt.xlabel('tsne1')\n",
        "plt.ylabel('tsne2')\n",
        "plt.show()"
      ],
      "metadata": {
        "colab": {
          "base_uri": "https://localhost:8080/",
          "height": 814
        },
        "id": "NN7Pe8JSwS65",
        "outputId": "ea0dc9c5-e2dc-498c-ebbd-04d25dce083e"
      },
      "execution_count": 208,
      "outputs": [
        {
          "output_type": "stream",
          "name": "stdout",
          "text": [
            "[t-SNE] Computing 241 nearest neighbors...\n",
            "[t-SNE] Indexed 5615 samples in 0.008s...\n",
            "[t-SNE] Computed neighbors for 5615 samples in 0.786s...\n",
            "[t-SNE] Computed conditional probabilities for sample 1000 / 5615\n",
            "[t-SNE] Computed conditional probabilities for sample 2000 / 5615\n",
            "[t-SNE] Computed conditional probabilities for sample 3000 / 5615\n",
            "[t-SNE] Computed conditional probabilities for sample 4000 / 5615\n",
            "[t-SNE] Computed conditional probabilities for sample 5000 / 5615\n",
            "[t-SNE] Computed conditional probabilities for sample 5615 / 5615\n",
            "[t-SNE] Mean sigma: 0.288893\n",
            "[t-SNE] KL divergence after 250 iterations with early exaggeration: 53.144577\n",
            "[t-SNE] KL divergence after 5000 iterations: 0.221218\n"
          ]
        },
        {
          "output_type": "display_data",
          "data": {
            "text/plain": [
              "<Figure size 720x720 with 1 Axes>"
            ],
            "image/png": "[encoded data removed]"
          },
          "metadata": {
            "needs_background": "light"
          }
        }
      ]
    },
    {
      "cell_type": "code",
      "source": [
        "import matplotlib"
      ],
      "metadata": {
        "id": "anE62RKJy_q_"
      },
      "execution_count": 209,
      "outputs": []
    },
    {
      "cell_type": "code",
      "source": [
        "tsne = TSNE(n_components=2, verbose=1, perplexity=80, n_iter=2500, learning_rate=200)\n",
        "tsne_scale_results = tsne.fit_transform(X)\n",
        "tsne_df_scale = pd.DataFrame(tsne_scale_results, columns=['tsne1', 'tsne2'])\n"
      ],
      "metadata": {
        "colab": {
          "base_uri": "https://localhost:8080/"
        },
        "id": "5ntBfl30xPyw",
        "outputId": "7c686226-3358-4421-8c56-8b16e659c47a"
      },
      "execution_count": 210,
      "outputs": [
        {
          "output_type": "stream",
          "name": "stdout",
          "text": [
            "[t-SNE] Computing 241 nearest neighbors...\n",
            "[t-SNE] Indexed 5615 samples in 0.010s...\n",
            "[t-SNE] Computed neighbors for 5615 samples in 0.785s...\n",
            "[t-SNE] Computed conditional probabilities for sample 1000 / 5615\n",
            "[t-SNE] Computed conditional probabilities for sample 2000 / 5615\n",
            "[t-SNE] Computed conditional probabilities for sample 3000 / 5615\n",
            "[t-SNE] Computed conditional probabilities for sample 4000 / 5615\n",
            "[t-SNE] Computed conditional probabilities for sample 5000 / 5615\n",
            "[t-SNE] Computed conditional probabilities for sample 5615 / 5615\n",
            "[t-SNE] Mean sigma: 0.288893\n",
            "[t-SNE] KL divergence after 250 iterations with early exaggeration: 53.838200\n",
            "[t-SNE] KL divergence after 2500 iterations: 0.301954\n"
          ]
        }
      ]
    },
    {
      "cell_type": "code",
      "source": [
        "np.unique(labels)\n"
      ],
      "metadata": {
        "colab": {
          "base_uri": "https://localhost:8080/"
        },
        "id": "hQhFoH9X29g0",
        "outputId": "e976241c-0354-44a5-b0fe-fbf5309578ec"
      },
      "execution_count": 211,
      "outputs": [
        {
          "output_type": "execute_result",
          "data": {
            "text/plain": [
              "array([0, 1, 2, 3, 4, 5, 6], dtype=int32)"
            ]
          },
          "metadata": {},
          "execution_count": 211
        }
      ]
    },
    {
      "cell_type": "code",
      "source": [
        "colors = [\"red\",\"green\",\"blue\",\"purple\",\"yellow\"]\n",
        "plt.figure(figsize = (10,10))\n",
        "plt.scatter(tsne_df_scale.iloc[:,0],tsne_df_scale.iloc[:,1],alpha=0.25, c=labels, cmap=matplotlib.colors.ListedColormap(colors))\n",
        "plt.xlabel('tsne1')\n",
        "plt.ylabel('tsne2')\n",
        "plt.show()"
      ],
      "metadata": {
        "colab": {
          "base_uri": "https://localhost:8080/",
          "height": 606
        },
        "id": "oQoOiThs0D6I",
        "outputId": "6b3391eb-06c5-4747-fd70-238c6ea9b561"
      },
      "execution_count": 214,
      "outputs": [
        {
          "output_type": "display_data",
          "data": {
            "text/plain": [
              "<Figure size 720x720 with 1 Axes>"
            ],
            "image/png": "[encoded data removed]"
          },
          "metadata": {
            "needs_background": "light"
          }
        }
      ]
    },
    {
      "cell_type": "markdown",
      "source": [
        "Reverse Scaling"
      ],
      "metadata": {
        "id": "8AWxNuG2ozJl"
      }
    },
    {
      "cell_type": "code",
      "source": [
        "Z2 = ms.inverse_transform(Z)\n",
        "Z2"
      ],
      "metadata": {
        "colab": {
          "base_uri": "https://localhost:8080/"
        },
        "id": "3vKW42A5o1At",
        "outputId": "7c8409d6-dec7-4349-f8d6-16c9ccac49ff"
      },
      "execution_count": 213,
      "outputs": [
        {
          "output_type": "execute_result",
          "data": {
            "text/plain": [
              "array([[ 1.00000000e+00,  1.00000000e+00,  3.06366237e+01,\n",
              "         4.14878398e-01, -1.66533454e-15,  6.45207439e-01,\n",
              "         3.80543634e-01,  4.09012876e+00,  3.83977110e+00],\n",
              "       [ 8.74568470e-02,  2.76179517e-02,  3.11081703e+01,\n",
              "         4.44089210e-16,  4.41887227e-01,  8.50402762e-01,\n",
              "         1.00000000e+00,  3.50747986e+00,  3.55811277e+00],\n",
              "       [ 1.24128312e-01,  2.23152022e-02,  3.04686192e+01,\n",
              "         1.00000000e+00,  2.45467225e-01,  1.00000000e+00,\n",
              "         3.70990237e-01,  3.53556485e+00,  3.55090656e+00],\n",
              "       [ 8.84831461e-02,  3.51123596e-02,  3.03342697e+01,\n",
              "         1.00000000e+00,  2.33146067e-01, -2.66453526e-15,\n",
              "         3.39887640e-01,  3.41853933e+00,  3.42556180e+00],\n",
              "       [ 8.74125874e-02,  1.98135198e-02,  3.13251748e+01,\n",
              "         2.77555756e-16,  2.69230769e-01, -3.66373598e-15,\n",
              "         2.42424242e-01,  3.45571096e+00,  3.54079254e+00],\n",
              "       [ 7.19499479e-02,  1.45985401e-02,  3.10218978e+01,\n",
              "         1.49880108e-15,  3.60792492e-01,  1.00000000e+00,\n",
              "         3.33066907e-16,  3.54118874e+00,  3.59541189e+00],\n",
              "       [ 9.45068664e-01,  8.38951311e-01,  3.10711610e+01,\n",
              "         2.70911361e-01,  1.00000000e+00,  6.22971286e-01,\n",
              "         2.44694132e-01,  4.16729089e+00,  3.84269663e+00]])"
            ]
          },
          "metadata": {},
          "execution_count": 213
        }
      ]
    }
  ]
}