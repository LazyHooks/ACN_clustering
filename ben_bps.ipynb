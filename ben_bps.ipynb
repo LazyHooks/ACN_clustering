{
  "nbformat": 4,
  "nbformat_minor": 0,
  "metadata": {
    "colab": {
      "provenance": [],
      "include_colab_link": true
    },
    "kernelspec": {
      "name": "python3",
      "display_name": "Python 3"
    },
    "language_info": {
      "name": "python"
    }
  },
  "cells": [
    {
      "cell_type": "markdown",
      "metadata": {
        "id": "view-in-github",
        "colab_type": "text"
      },
      "source": [
        "<a href=\"https://colab.research.google.com/github/LazyHooks/ACN_clustering/blob/main/ben_bps.ipynb\" target=\"_parent\"><img src=\"https://colab.research.google.com/assets/colab-badge.svg\" alt=\"Open In Colab\"/></a>"
      ]
    },
    {
      "cell_type": "markdown",
      "source": [
        "imports"
      ],
      "metadata": {
        "id": "EZ66BoAMg2RN"
      }
    },
    {
      "cell_type": "code",
      "source": [
        "import numpy as np \n",
        "import pandas as pd \n",
        "import matplotlib.pyplot as plt \n",
        "import seaborn as sns \n",
        "%matplotlib inline\n",
        "from sklearn.manifold import TSNE\n",
        "from sklearn.metrics import silhouette_score\n",
        "import os\n",
        "for dirname, _, filenames in os.walk('/kaggle/input'):\n",
        "    for filename in filenames:\n",
        "        print(os.path.join(dirname, filename))"
      ],
      "metadata": {
        "id": "85Jrb1-0g5gr"
      },
      "execution_count": 1,
      "outputs": []
    },
    {
      "cell_type": "markdown",
      "source": [
        "warning override"
      ],
      "metadata": {
        "id": "klm0o1oOhYTL"
      }
    },
    {
      "cell_type": "code",
      "source": [
        "import warnings\n",
        "\n",
        "warnings.filterwarnings('ignore')"
      ],
      "metadata": {
        "id": "Y-mwBcyxhdww"
      },
      "execution_count": 2,
      "outputs": []
    },
    {
      "cell_type": "markdown",
      "source": [
        "input"
      ],
      "metadata": {
        "id": "-enRFqMvhe57"
      }
    },
    {
      "cell_type": "code",
      "source": [
        "df = pd.read_csv(\"ben_bps.csv\")"
      ],
      "metadata": {
        "id": "J8b3fvEehfwn"
      },
      "execution_count": 3,
      "outputs": []
    },
    {
      "cell_type": "markdown",
      "source": [
        "exploratory"
      ],
      "metadata": {
        "id": "URa-ZxyVhk8R"
      }
    },
    {
      "cell_type": "code",
      "source": [
        "df.shape\n",
        "\n",
        "df.info()"
      ],
      "metadata": {
        "colab": {
          "base_uri": "https://localhost:8080/"
        },
        "id": "K5urbmDQhoUp",
        "outputId": "c22b91e4-ce11-4f26-d70a-585ee06c7351"
      },
      "execution_count": 4,
      "outputs": [
        {
          "output_type": "stream",
          "name": "stdout",
          "text": [
            "<class 'pandas.core.frame.DataFrame'>\n",
            "RangeIndex: 921 entries, 0 to 920\n",
            "Data columns (total 14 columns):\n",
            " #   Column      Non-Null Count  Dtype\n",
            "---  ------      --------------  -----\n",
            " 0   Level       921 non-null    int64\n",
            " 1   Gender      921 non-null    int64\n",
            " 2   Tenure      921 non-null    int64\n",
            " 3   KT          921 non-null    int64\n",
            " 4   Ext Parity  921 non-null    int64\n",
            " 5   med1        921 non-null    int64\n",
            " 6   med2        921 non-null    int64\n",
            " 7   med3        921 non-null    int64\n",
            " 8   lv1         921 non-null    int64\n",
            " 9   lv2         921 non-null    int64\n",
            " 10  lv3         921 non-null    int64\n",
            " 11  ben1        921 non-null    int64\n",
            " 12  ben2        921 non-null    int64\n",
            " 13  ben3        921 non-null    int64\n",
            "dtypes: int64(14)\n",
            "memory usage: 100.9 KB\n"
          ]
        }
      ]
    },
    {
      "cell_type": "code",
      "source": [
        "df.head()"
      ],
      "metadata": {
        "colab": {
          "base_uri": "https://localhost:8080/",
          "height": 206
        },
        "id": "JfEPJr9UiO5E",
        "outputId": "5eed92b8-fc9c-4054-e507-020d0e7ec0e6"
      },
      "execution_count": 5,
      "outputs": [
        {
          "output_type": "execute_result",
          "data": {
            "text/plain": [
              "   Level  Gender  Tenure  KT  Ext Parity  med1  med2  med3  lv1  lv2  lv3  \\\n",
              "0      0       0       1   0           1    16    15    14    5    4    6   \n",
              "1      0       0       2   0           1    16    15    13    2    1    3   \n",
              "2      0       0       3   0           1    15    16    13    6    1    3   \n",
              "3      0       0       1   0           1    16    13    15    7    8    2   \n",
              "4      1       0       4   1           1    13    14    15    7    2    4   \n",
              "\n",
              "   ben1  ben2  ben3  \n",
              "0     4     3     6  \n",
              "1     2     5     4  \n",
              "2     1     2     3  \n",
              "3     4     6     5  \n",
              "4     3     2     1  "
            ],
            "text/html": [
              "\n",
              "  <div id=\"df-f07d4cc9-a703-485c-9c60-cfc3b5fc6dc9\">\n",
              "    <div class=\"colab-df-container\">\n",
              "      <div>\n",
              "<style scoped>\n",
              "    .dataframe tbody tr th:only-of-type {\n",
              "        vertical-align: middle;\n",
              "    }\n",
              "\n",
              "    .dataframe tbody tr th {\n",
              "        vertical-align: top;\n",
              "    }\n",
              "\n",
              "    .dataframe thead th {\n",
              "        text-align: right;\n",
              "    }\n",
              "</style>\n",
              "<table border=\"1\" class=\"dataframe\">\n",
              "  <thead>\n",
              "    <tr style=\"text-align: right;\">\n",
              "      <th></th>\n",
              "      <th>Level</th>\n",
              "      <th>Gender</th>\n",
              "      <th>Tenure</th>\n",
              "      <th>KT</th>\n",
              "      <th>Ext Parity</th>\n",
              "      <th>med1</th>\n",
              "      <th>med2</th>\n",
              "      <th>med3</th>\n",
              "      <th>lv1</th>\n",
              "      <th>lv2</th>\n",
              "      <th>lv3</th>\n",
              "      <th>ben1</th>\n",
              "      <th>ben2</th>\n",
              "      <th>ben3</th>\n",
              "    </tr>\n",
              "  </thead>\n",
              "  <tbody>\n",
              "    <tr>\n",
              "      <th>0</th>\n",
              "      <td>0</td>\n",
              "      <td>0</td>\n",
              "      <td>1</td>\n",
              "      <td>0</td>\n",
              "      <td>1</td>\n",
              "      <td>16</td>\n",
              "      <td>15</td>\n",
              "      <td>14</td>\n",
              "      <td>5</td>\n",
              "      <td>4</td>\n",
              "      <td>6</td>\n",
              "      <td>4</td>\n",
              "      <td>3</td>\n",
              "      <td>6</td>\n",
              "    </tr>\n",
              "    <tr>\n",
              "      <th>1</th>\n",
              "      <td>0</td>\n",
              "      <td>0</td>\n",
              "      <td>2</td>\n",
              "      <td>0</td>\n",
              "      <td>1</td>\n",
              "      <td>16</td>\n",
              "      <td>15</td>\n",
              "      <td>13</td>\n",
              "      <td>2</td>\n",
              "      <td>1</td>\n",
              "      <td>3</td>\n",
              "      <td>2</td>\n",
              "      <td>5</td>\n",
              "      <td>4</td>\n",
              "    </tr>\n",
              "    <tr>\n",
              "      <th>2</th>\n",
              "      <td>0</td>\n",
              "      <td>0</td>\n",
              "      <td>3</td>\n",
              "      <td>0</td>\n",
              "      <td>1</td>\n",
              "      <td>15</td>\n",
              "      <td>16</td>\n",
              "      <td>13</td>\n",
              "      <td>6</td>\n",
              "      <td>1</td>\n",
              "      <td>3</td>\n",
              "      <td>1</td>\n",
              "      <td>2</td>\n",
              "      <td>3</td>\n",
              "    </tr>\n",
              "    <tr>\n",
              "      <th>3</th>\n",
              "      <td>0</td>\n",
              "      <td>0</td>\n",
              "      <td>1</td>\n",
              "      <td>0</td>\n",
              "      <td>1</td>\n",
              "      <td>16</td>\n",
              "      <td>13</td>\n",
              "      <td>15</td>\n",
              "      <td>7</td>\n",
              "      <td>8</td>\n",
              "      <td>2</td>\n",
              "      <td>4</td>\n",
              "      <td>6</td>\n",
              "      <td>5</td>\n",
              "    </tr>\n",
              "    <tr>\n",
              "      <th>4</th>\n",
              "      <td>1</td>\n",
              "      <td>0</td>\n",
              "      <td>4</td>\n",
              "      <td>1</td>\n",
              "      <td>1</td>\n",
              "      <td>13</td>\n",
              "      <td>14</td>\n",
              "      <td>15</td>\n",
              "      <td>7</td>\n",
              "      <td>2</td>\n",
              "      <td>4</td>\n",
              "      <td>3</td>\n",
              "      <td>2</td>\n",
              "      <td>1</td>\n",
              "    </tr>\n",
              "  </tbody>\n",
              "</table>\n",
              "</div>\n",
              "      <button class=\"colab-df-convert\" onclick=\"convertToInteractive('df-f07d4cc9-a703-485c-9c60-cfc3b5fc6dc9')\"\n",
              "              title=\"Convert this dataframe to an interactive table.\"\n",
              "              style=\"display:none;\">\n",
              "        \n",
              "  <svg xmlns=\"http://www.w3.org/2000/svg\" height=\"24px\"viewBox=\"0 0 24 24\"\n",
              "       width=\"24px\">\n",
              "    <path d=\"M0 0h24v24H0V0z\" fill=\"none\"/>\n",
              "    <path d=\"M18.56 5.44l.94 2.06.94-2.06 2.06-.94-2.06-.94-.94-2.06-.94 2.06-2.06.94zm-11 1L8.5 8.5l.94-2.06 2.06-.94-2.06-.94L8.5 2.5l-.94 2.06-2.06.94zm10 10l.94 2.06.94-2.06 2.06-.94-2.06-.94-.94-2.06-.94 2.06-2.06.94z\"/><path d=\"M17.41 7.96l-1.37-1.37c-.4-.4-.92-.59-1.43-.59-.52 0-1.04.2-1.43.59L10.3 9.45l-7.72 7.72c-.78.78-.78 2.05 0 2.83L4 21.41c.39.39.9.59 1.41.59.51 0 1.02-.2 1.41-.59l7.78-7.78 2.81-2.81c.8-.78.8-2.07 0-2.86zM5.41 20L4 18.59l7.72-7.72 1.47 1.35L5.41 20z\"/>\n",
              "  </svg>\n",
              "      </button>\n",
              "      \n",
              "  <style>\n",
              "    .colab-df-container {\n",
              "      display:flex;\n",
              "      flex-wrap:wrap;\n",
              "      gap: 12px;\n",
              "    }\n",
              "\n",
              "    .colab-df-convert {\n",
              "      background-color: #E8F0FE;\n",
              "      border: none;\n",
              "      border-radius: 50%;\n",
              "      cursor: pointer;\n",
              "      display: none;\n",
              "      fill: #1967D2;\n",
              "      height: 32px;\n",
              "      padding: 0 0 0 0;\n",
              "      width: 32px;\n",
              "    }\n",
              "\n",
              "    .colab-df-convert:hover {\n",
              "      background-color: #E2EBFA;\n",
              "      box-shadow: 0px 1px 2px rgba(60, 64, 67, 0.3), 0px 1px 3px 1px rgba(60, 64, 67, 0.15);\n",
              "      fill: #174EA6;\n",
              "    }\n",
              "\n",
              "    [theme=dark] .colab-df-convert {\n",
              "      background-color: #3B4455;\n",
              "      fill: #D2E3FC;\n",
              "    }\n",
              "\n",
              "    [theme=dark] .colab-df-convert:hover {\n",
              "      background-color: #434B5C;\n",
              "      box-shadow: 0px 1px 3px 1px rgba(0, 0, 0, 0.15);\n",
              "      filter: drop-shadow(0px 1px 2px rgba(0, 0, 0, 0.3));\n",
              "      fill: #FFFFFF;\n",
              "    }\n",
              "  </style>\n",
              "\n",
              "      <script>\n",
              "        const buttonEl =\n",
              "          document.querySelector('#df-f07d4cc9-a703-485c-9c60-cfc3b5fc6dc9 button.colab-df-convert');\n",
              "        buttonEl.style.display =\n",
              "          google.colab.kernel.accessAllowed ? 'block' : 'none';\n",
              "\n",
              "        async function convertToInteractive(key) {\n",
              "          const element = document.querySelector('#df-f07d4cc9-a703-485c-9c60-cfc3b5fc6dc9');\n",
              "          const dataTable =\n",
              "            await google.colab.kernel.invokeFunction('convertToInteractive',\n",
              "                                                     [key], {});\n",
              "          if (!dataTable) return;\n",
              "\n",
              "          const docLinkHtml = 'Like what you see? Visit the ' +\n",
              "            '<a target=\"_blank\" href=https://colab.research.google.com/notebooks/data_table.ipynb>data table notebook</a>'\n",
              "            + ' to learn more about interactive tables.';\n",
              "          element.innerHTML = '';\n",
              "          dataTable['output_type'] = 'display_data';\n",
              "          await google.colab.output.renderOutput(dataTable, element);\n",
              "          const docLink = document.createElement('div');\n",
              "          docLink.innerHTML = docLinkHtml;\n",
              "          element.appendChild(docLink);\n",
              "        }\n",
              "      </script>\n",
              "    </div>\n",
              "  </div>\n",
              "  "
            ]
          },
          "metadata": {},
          "execution_count": 5
        }
      ]
    },
    {
      "cell_type": "markdown",
      "source": [
        "checks"
      ],
      "metadata": {
        "id": "JU0tPdckhyVL"
      }
    },
    {
      "cell_type": "code",
      "source": [
        "df.isnull().sum()\n",
        "df.describe()"
      ],
      "metadata": {
        "colab": {
          "base_uri": "https://localhost:8080/",
          "height": 381
        },
        "id": "glU0ZWG9hzKf",
        "outputId": "6e25ab31-7684-430c-9a2d-c2f4753f95d1"
      },
      "execution_count": 6,
      "outputs": [
        {
          "output_type": "execute_result",
          "data": {
            "text/plain": [
              "            Level      Gender      Tenure          KT  Ext Parity        med1  \\\n",
              "count  921.000000  921.000000  921.000000  921.000000  921.000000  921.000000   \n",
              "mean     0.545060    0.635179    2.659066    0.545060    0.516830   13.558089   \n",
              "std      0.555975    0.481641    1.225165    0.498236    0.499988    1.468933   \n",
              "min      0.000000    0.000000    1.000000    0.000000    0.000000   12.000000   \n",
              "25%      0.000000    0.000000    1.000000    0.000000    0.000000   12.000000   \n",
              "50%      1.000000    1.000000    3.000000    1.000000    1.000000   13.000000   \n",
              "75%      1.000000    1.000000    4.000000    1.000000    1.000000   15.000000   \n",
              "max      2.000000    1.000000    4.000000    1.000000    1.000000   16.000000   \n",
              "\n",
              "             med2        med3         lv1         lv2         lv3        ben1  \\\n",
              "count  921.000000  921.000000  921.000000  921.000000  921.000000  921.000000   \n",
              "mean    13.761129   13.896851    4.129207    3.487514    3.597177    2.581976   \n",
              "std      1.277501    1.403877    2.536178    2.119810    1.840827    1.506530   \n",
              "min     12.000000   12.000000    1.000000    1.000000    1.000000    1.000000   \n",
              "25%     13.000000   13.000000    2.000000    2.000000    2.000000    1.000000   \n",
              "50%     14.000000   14.000000    4.000000    3.000000    3.000000    2.000000   \n",
              "75%     15.000000   15.000000    7.000000    5.000000    5.000000    3.000000   \n",
              "max     16.000000   16.000000    8.000000    8.000000    8.000000    6.000000   \n",
              "\n",
              "             ben2        ben3  \n",
              "count  921.000000  921.000000  \n",
              "mean     2.899023    3.376764  \n",
              "std      1.468365    1.515235  \n",
              "min      1.000000    1.000000  \n",
              "25%      2.000000    2.000000  \n",
              "50%      3.000000    3.000000  \n",
              "75%      4.000000    5.000000  \n",
              "max      6.000000    6.000000  "
            ],
            "text/html": [
              "\n",
              "  <div id=\"df-da68cb59-db57-4afd-a04b-a51f891119a5\">\n",
              "    <div class=\"colab-df-container\">\n",
              "      <div>\n",
              "<style scoped>\n",
              "    .dataframe tbody tr th:only-of-type {\n",
              "        vertical-align: middle;\n",
              "    }\n",
              "\n",
              "    .dataframe tbody tr th {\n",
              "        vertical-align: top;\n",
              "    }\n",
              "\n",
              "    .dataframe thead th {\n",
              "        text-align: right;\n",
              "    }\n",
              "</style>\n",
              "<table border=\"1\" class=\"dataframe\">\n",
              "  <thead>\n",
              "    <tr style=\"text-align: right;\">\n",
              "      <th></th>\n",
              "      <th>Level</th>\n",
              "      <th>Gender</th>\n",
              "      <th>Tenure</th>\n",
              "      <th>KT</th>\n",
              "      <th>Ext Parity</th>\n",
              "      <th>med1</th>\n",
              "      <th>med2</th>\n",
              "      <th>med3</th>\n",
              "      <th>lv1</th>\n",
              "      <th>lv2</th>\n",
              "      <th>lv3</th>\n",
              "      <th>ben1</th>\n",
              "      <th>ben2</th>\n",
              "      <th>ben3</th>\n",
              "    </tr>\n",
              "  </thead>\n",
              "  <tbody>\n",
              "    <tr>\n",
              "      <th>count</th>\n",
              "      <td>921.000000</td>\n",
              "      <td>921.000000</td>\n",
              "      <td>921.000000</td>\n",
              "      <td>921.000000</td>\n",
              "      <td>921.000000</td>\n",
              "      <td>921.000000</td>\n",
              "      <td>921.000000</td>\n",
              "      <td>921.000000</td>\n",
              "      <td>921.000000</td>\n",
              "      <td>921.000000</td>\n",
              "      <td>921.000000</td>\n",
              "      <td>921.000000</td>\n",
              "      <td>921.000000</td>\n",
              "      <td>921.000000</td>\n",
              "    </tr>\n",
              "    <tr>\n",
              "      <th>mean</th>\n",
              "      <td>0.545060</td>\n",
              "      <td>0.635179</td>\n",
              "      <td>2.659066</td>\n",
              "      <td>0.545060</td>\n",
              "      <td>0.516830</td>\n",
              "      <td>13.558089</td>\n",
              "      <td>13.761129</td>\n",
              "      <td>13.896851</td>\n",
              "      <td>4.129207</td>\n",
              "      <td>3.487514</td>\n",
              "      <td>3.597177</td>\n",
              "      <td>2.581976</td>\n",
              "      <td>2.899023</td>\n",
              "      <td>3.376764</td>\n",
              "    </tr>\n",
              "    <tr>\n",
              "      <th>std</th>\n",
              "      <td>0.555975</td>\n",
              "      <td>0.481641</td>\n",
              "      <td>1.225165</td>\n",
              "      <td>0.498236</td>\n",
              "      <td>0.499988</td>\n",
              "      <td>1.468933</td>\n",
              "      <td>1.277501</td>\n",
              "      <td>1.403877</td>\n",
              "      <td>2.536178</td>\n",
              "      <td>2.119810</td>\n",
              "      <td>1.840827</td>\n",
              "      <td>1.506530</td>\n",
              "      <td>1.468365</td>\n",
              "      <td>1.515235</td>\n",
              "    </tr>\n",
              "    <tr>\n",
              "      <th>min</th>\n",
              "      <td>0.000000</td>\n",
              "      <td>0.000000</td>\n",
              "      <td>1.000000</td>\n",
              "      <td>0.000000</td>\n",
              "      <td>0.000000</td>\n",
              "      <td>12.000000</td>\n",
              "      <td>12.000000</td>\n",
              "      <td>12.000000</td>\n",
              "      <td>1.000000</td>\n",
              "      <td>1.000000</td>\n",
              "      <td>1.000000</td>\n",
              "      <td>1.000000</td>\n",
              "      <td>1.000000</td>\n",
              "      <td>1.000000</td>\n",
              "    </tr>\n",
              "    <tr>\n",
              "      <th>25%</th>\n",
              "      <td>0.000000</td>\n",
              "      <td>0.000000</td>\n",
              "      <td>1.000000</td>\n",
              "      <td>0.000000</td>\n",
              "      <td>0.000000</td>\n",
              "      <td>12.000000</td>\n",
              "      <td>13.000000</td>\n",
              "      <td>13.000000</td>\n",
              "      <td>2.000000</td>\n",
              "      <td>2.000000</td>\n",
              "      <td>2.000000</td>\n",
              "      <td>1.000000</td>\n",
              "      <td>2.000000</td>\n",
              "      <td>2.000000</td>\n",
              "    </tr>\n",
              "    <tr>\n",
              "      <th>50%</th>\n",
              "      <td>1.000000</td>\n",
              "      <td>1.000000</td>\n",
              "      <td>3.000000</td>\n",
              "      <td>1.000000</td>\n",
              "      <td>1.000000</td>\n",
              "      <td>13.000000</td>\n",
              "      <td>14.000000</td>\n",
              "      <td>14.000000</td>\n",
              "      <td>4.000000</td>\n",
              "      <td>3.000000</td>\n",
              "      <td>3.000000</td>\n",
              "      <td>2.000000</td>\n",
              "      <td>3.000000</td>\n",
              "      <td>3.000000</td>\n",
              "    </tr>\n",
              "    <tr>\n",
              "      <th>75%</th>\n",
              "      <td>1.000000</td>\n",
              "      <td>1.000000</td>\n",
              "      <td>4.000000</td>\n",
              "      <td>1.000000</td>\n",
              "      <td>1.000000</td>\n",
              "      <td>15.000000</td>\n",
              "      <td>15.000000</td>\n",
              "      <td>15.000000</td>\n",
              "      <td>7.000000</td>\n",
              "      <td>5.000000</td>\n",
              "      <td>5.000000</td>\n",
              "      <td>3.000000</td>\n",
              "      <td>4.000000</td>\n",
              "      <td>5.000000</td>\n",
              "    </tr>\n",
              "    <tr>\n",
              "      <th>max</th>\n",
              "      <td>2.000000</td>\n",
              "      <td>1.000000</td>\n",
              "      <td>4.000000</td>\n",
              "      <td>1.000000</td>\n",
              "      <td>1.000000</td>\n",
              "      <td>16.000000</td>\n",
              "      <td>16.000000</td>\n",
              "      <td>16.000000</td>\n",
              "      <td>8.000000</td>\n",
              "      <td>8.000000</td>\n",
              "      <td>8.000000</td>\n",
              "      <td>6.000000</td>\n",
              "      <td>6.000000</td>\n",
              "      <td>6.000000</td>\n",
              "    </tr>\n",
              "  </tbody>\n",
              "</table>\n",
              "</div>\n",
              "      <button class=\"colab-df-convert\" onclick=\"convertToInteractive('df-da68cb59-db57-4afd-a04b-a51f891119a5')\"\n",
              "              title=\"Convert this dataframe to an interactive table.\"\n",
              "              style=\"display:none;\">\n",
              "        \n",
              "  <svg xmlns=\"http://www.w3.org/2000/svg\" height=\"24px\"viewBox=\"0 0 24 24\"\n",
              "       width=\"24px\">\n",
              "    <path d=\"M0 0h24v24H0V0z\" fill=\"none\"/>\n",
              "    <path d=\"M18.56 5.44l.94 2.06.94-2.06 2.06-.94-2.06-.94-.94-2.06-.94 2.06-2.06.94zm-11 1L8.5 8.5l.94-2.06 2.06-.94-2.06-.94L8.5 2.5l-.94 2.06-2.06.94zm10 10l.94 2.06.94-2.06 2.06-.94-2.06-.94-.94-2.06-.94 2.06-2.06.94z\"/><path d=\"M17.41 7.96l-1.37-1.37c-.4-.4-.92-.59-1.43-.59-.52 0-1.04.2-1.43.59L10.3 9.45l-7.72 7.72c-.78.78-.78 2.05 0 2.83L4 21.41c.39.39.9.59 1.41.59.51 0 1.02-.2 1.41-.59l7.78-7.78 2.81-2.81c.8-.78.8-2.07 0-2.86zM5.41 20L4 18.59l7.72-7.72 1.47 1.35L5.41 20z\"/>\n",
              "  </svg>\n",
              "      </button>\n",
              "      \n",
              "  <style>\n",
              "    .colab-df-container {\n",
              "      display:flex;\n",
              "      flex-wrap:wrap;\n",
              "      gap: 12px;\n",
              "    }\n",
              "\n",
              "    .colab-df-convert {\n",
              "      background-color: #E8F0FE;\n",
              "      border: none;\n",
              "      border-radius: 50%;\n",
              "      cursor: pointer;\n",
              "      display: none;\n",
              "      fill: #1967D2;\n",
              "      height: 32px;\n",
              "      padding: 0 0 0 0;\n",
              "      width: 32px;\n",
              "    }\n",
              "\n",
              "    .colab-df-convert:hover {\n",
              "      background-color: #E2EBFA;\n",
              "      box-shadow: 0px 1px 2px rgba(60, 64, 67, 0.3), 0px 1px 3px 1px rgba(60, 64, 67, 0.15);\n",
              "      fill: #174EA6;\n",
              "    }\n",
              "\n",
              "    [theme=dark] .colab-df-convert {\n",
              "      background-color: #3B4455;\n",
              "      fill: #D2E3FC;\n",
              "    }\n",
              "\n",
              "    [theme=dark] .colab-df-convert:hover {\n",
              "      background-color: #434B5C;\n",
              "      box-shadow: 0px 1px 3px 1px rgba(0, 0, 0, 0.15);\n",
              "      filter: drop-shadow(0px 1px 2px rgba(0, 0, 0, 0.3));\n",
              "      fill: #FFFFFF;\n",
              "    }\n",
              "  </style>\n",
              "\n",
              "      <script>\n",
              "        const buttonEl =\n",
              "          document.querySelector('#df-da68cb59-db57-4afd-a04b-a51f891119a5 button.colab-df-convert');\n",
              "        buttonEl.style.display =\n",
              "          google.colab.kernel.accessAllowed ? 'block' : 'none';\n",
              "\n",
              "        async function convertToInteractive(key) {\n",
              "          const element = document.querySelector('#df-da68cb59-db57-4afd-a04b-a51f891119a5');\n",
              "          const dataTable =\n",
              "            await google.colab.kernel.invokeFunction('convertToInteractive',\n",
              "                                                     [key], {});\n",
              "          if (!dataTable) return;\n",
              "\n",
              "          const docLinkHtml = 'Like what you see? Visit the ' +\n",
              "            '<a target=\"_blank\" href=https://colab.research.google.com/notebooks/data_table.ipynb>data table notebook</a>'\n",
              "            + ' to learn more about interactive tables.';\n",
              "          element.innerHTML = '';\n",
              "          dataTable['output_type'] = 'display_data';\n",
              "          await google.colab.output.renderOutput(dataTable, element);\n",
              "          const docLink = document.createElement('div');\n",
              "          docLink.innerHTML = docLinkHtml;\n",
              "          element.appendChild(docLink);\n",
              "        }\n",
              "      </script>\n",
              "    </div>\n",
              "  </div>\n",
              "  "
            ]
          },
          "metadata": {},
          "execution_count": 6
        }
      ]
    },
    {
      "cell_type": "code",
      "source": [
        "X=df"
      ],
      "metadata": {
        "id": "pFu59o__iokY"
      },
      "execution_count": 7,
      "outputs": []
    },
    {
      "cell_type": "markdown",
      "source": [
        "Scaling"
      ],
      "metadata": {
        "id": "iW70e3pDirgC"
      }
    },
    {
      "cell_type": "code",
      "source": [
        "cols = X.columns"
      ],
      "metadata": {
        "id": "PIRIZwSzis72"
      },
      "execution_count": 8,
      "outputs": []
    },
    {
      "cell_type": "code",
      "source": [
        "from sklearn.preprocessing import MinMaxScaler\n",
        "\n",
        "ms = MinMaxScaler()\n",
        "\n",
        "X = ms.fit_transform(X)"
      ],
      "metadata": {
        "id": "HIo-w3hxi3F5"
      },
      "execution_count": 9,
      "outputs": []
    },
    {
      "cell_type": "code",
      "source": [
        "X = pd.DataFrame(X, columns=[cols])"
      ],
      "metadata": {
        "id": "ktbC6Y7cjBDP"
      },
      "execution_count": 10,
      "outputs": []
    },
    {
      "cell_type": "code",
      "source": [
        "X.head()"
      ],
      "metadata": {
        "colab": {
          "base_uri": "https://localhost:8080/",
          "height": 267
        },
        "id": "uaFVzLGCjFSG",
        "outputId": "4ffe5f67-82b5-4e22-9f46-3fd52d85189e"
      },
      "execution_count": 11,
      "outputs": [
        {
          "output_type": "execute_result",
          "data": {
            "text/plain": [
              "  Level Gender    Tenure   KT Ext Parity  med1  med2  med3       lv1  \\\n",
              "0   0.0    0.0  0.000000  0.0        1.0  1.00  0.75  0.50  0.571429   \n",
              "1   0.0    0.0  0.333333  0.0        1.0  1.00  0.75  0.25  0.142857   \n",
              "2   0.0    0.0  0.666667  0.0        1.0  0.75  1.00  0.25  0.714286   \n",
              "3   0.0    0.0  0.000000  0.0        1.0  1.00  0.25  0.75  0.857143   \n",
              "4   0.5    0.0  1.000000  1.0        1.0  0.25  0.50  0.75  0.857143   \n",
              "\n",
              "        lv2       lv3 ben1 ben2 ben3  \n",
              "0  0.428571  0.714286  0.6  0.4  1.0  \n",
              "1  0.000000  0.285714  0.2  0.8  0.6  \n",
              "2  0.000000  0.285714  0.0  0.2  0.4  \n",
              "3  1.000000  0.142857  0.6  1.0  0.8  \n",
              "4  0.142857  0.428571  0.4  0.2  0.0  "
            ],
            "text/html": [
              "\n",
              "  <div id=\"df-efaa07f4-b28a-4098-9e68-e01349091646\">\n",
              "    <div class=\"colab-df-container\">\n",
              "      <div>\n",
              "<style scoped>\n",
              "    .dataframe tbody tr th:only-of-type {\n",
              "        vertical-align: middle;\n",
              "    }\n",
              "\n",
              "    .dataframe tbody tr th {\n",
              "        vertical-align: top;\n",
              "    }\n",
              "\n",
              "    .dataframe thead tr th {\n",
              "        text-align: left;\n",
              "    }\n",
              "</style>\n",
              "<table border=\"1\" class=\"dataframe\">\n",
              "  <thead>\n",
              "    <tr>\n",
              "      <th></th>\n",
              "      <th>Level</th>\n",
              "      <th>Gender</th>\n",
              "      <th>Tenure</th>\n",
              "      <th>KT</th>\n",
              "      <th>Ext Parity</th>\n",
              "      <th>med1</th>\n",
              "      <th>med2</th>\n",
              "      <th>med3</th>\n",
              "      <th>lv1</th>\n",
              "      <th>lv2</th>\n",
              "      <th>lv3</th>\n",
              "      <th>ben1</th>\n",
              "      <th>ben2</th>\n",
              "      <th>ben3</th>\n",
              "    </tr>\n",
              "  </thead>\n",
              "  <tbody>\n",
              "    <tr>\n",
              "      <th>0</th>\n",
              "      <td>0.0</td>\n",
              "      <td>0.0</td>\n",
              "      <td>0.000000</td>\n",
              "      <td>0.0</td>\n",
              "      <td>1.0</td>\n",
              "      <td>1.00</td>\n",
              "      <td>0.75</td>\n",
              "      <td>0.50</td>\n",
              "      <td>0.571429</td>\n",
              "      <td>0.428571</td>\n",
              "      <td>0.714286</td>\n",
              "      <td>0.6</td>\n",
              "      <td>0.4</td>\n",
              "      <td>1.0</td>\n",
              "    </tr>\n",
              "    <tr>\n",
              "      <th>1</th>\n",
              "      <td>0.0</td>\n",
              "      <td>0.0</td>\n",
              "      <td>0.333333</td>\n",
              "      <td>0.0</td>\n",
              "      <td>1.0</td>\n",
              "      <td>1.00</td>\n",
              "      <td>0.75</td>\n",
              "      <td>0.25</td>\n",
              "      <td>0.142857</td>\n",
              "      <td>0.000000</td>\n",
              "      <td>0.285714</td>\n",
              "      <td>0.2</td>\n",
              "      <td>0.8</td>\n",
              "      <td>0.6</td>\n",
              "    </tr>\n",
              "    <tr>\n",
              "      <th>2</th>\n",
              "      <td>0.0</td>\n",
              "      <td>0.0</td>\n",
              "      <td>0.666667</td>\n",
              "      <td>0.0</td>\n",
              "      <td>1.0</td>\n",
              "      <td>0.75</td>\n",
              "      <td>1.00</td>\n",
              "      <td>0.25</td>\n",
              "      <td>0.714286</td>\n",
              "      <td>0.000000</td>\n",
              "      <td>0.285714</td>\n",
              "      <td>0.0</td>\n",
              "      <td>0.2</td>\n",
              "      <td>0.4</td>\n",
              "    </tr>\n",
              "    <tr>\n",
              "      <th>3</th>\n",
              "      <td>0.0</td>\n",
              "      <td>0.0</td>\n",
              "      <td>0.000000</td>\n",
              "      <td>0.0</td>\n",
              "      <td>1.0</td>\n",
              "      <td>1.00</td>\n",
              "      <td>0.25</td>\n",
              "      <td>0.75</td>\n",
              "      <td>0.857143</td>\n",
              "      <td>1.000000</td>\n",
              "      <td>0.142857</td>\n",
              "      <td>0.6</td>\n",
              "      <td>1.0</td>\n",
              "      <td>0.8</td>\n",
              "    </tr>\n",
              "    <tr>\n",
              "      <th>4</th>\n",
              "      <td>0.5</td>\n",
              "      <td>0.0</td>\n",
              "      <td>1.000000</td>\n",
              "      <td>1.0</td>\n",
              "      <td>1.0</td>\n",
              "      <td>0.25</td>\n",
              "      <td>0.50</td>\n",
              "      <td>0.75</td>\n",
              "      <td>0.857143</td>\n",
              "      <td>0.142857</td>\n",
              "      <td>0.428571</td>\n",
              "      <td>0.4</td>\n",
              "      <td>0.2</td>\n",
              "      <td>0.0</td>\n",
              "    </tr>\n",
              "  </tbody>\n",
              "</table>\n",
              "</div>\n",
              "      <button class=\"colab-df-convert\" onclick=\"convertToInteractive('df-efaa07f4-b28a-4098-9e68-e01349091646')\"\n",
              "              title=\"Convert this dataframe to an interactive table.\"\n",
              "              style=\"display:none;\">\n",
              "        \n",
              "  <svg xmlns=\"http://www.w3.org/2000/svg\" height=\"24px\"viewBox=\"0 0 24 24\"\n",
              "       width=\"24px\">\n",
              "    <path d=\"M0 0h24v24H0V0z\" fill=\"none\"/>\n",
              "    <path d=\"M18.56 5.44l.94 2.06.94-2.06 2.06-.94-2.06-.94-.94-2.06-.94 2.06-2.06.94zm-11 1L8.5 8.5l.94-2.06 2.06-.94-2.06-.94L8.5 2.5l-.94 2.06-2.06.94zm10 10l.94 2.06.94-2.06 2.06-.94-2.06-.94-.94-2.06-.94 2.06-2.06.94z\"/><path d=\"M17.41 7.96l-1.37-1.37c-.4-.4-.92-.59-1.43-.59-.52 0-1.04.2-1.43.59L10.3 9.45l-7.72 7.72c-.78.78-.78 2.05 0 2.83L4 21.41c.39.39.9.59 1.41.59.51 0 1.02-.2 1.41-.59l7.78-7.78 2.81-2.81c.8-.78.8-2.07 0-2.86zM5.41 20L4 18.59l7.72-7.72 1.47 1.35L5.41 20z\"/>\n",
              "  </svg>\n",
              "      </button>\n",
              "      \n",
              "  <style>\n",
              "    .colab-df-container {\n",
              "      display:flex;\n",
              "      flex-wrap:wrap;\n",
              "      gap: 12px;\n",
              "    }\n",
              "\n",
              "    .colab-df-convert {\n",
              "      background-color: #E8F0FE;\n",
              "      border: none;\n",
              "      border-radius: 50%;\n",
              "      cursor: pointer;\n",
              "      display: none;\n",
              "      fill: #1967D2;\n",
              "      height: 32px;\n",
              "      padding: 0 0 0 0;\n",
              "      width: 32px;\n",
              "    }\n",
              "\n",
              "    .colab-df-convert:hover {\n",
              "      background-color: #E2EBFA;\n",
              "      box-shadow: 0px 1px 2px rgba(60, 64, 67, 0.3), 0px 1px 3px 1px rgba(60, 64, 67, 0.15);\n",
              "      fill: #174EA6;\n",
              "    }\n",
              "\n",
              "    [theme=dark] .colab-df-convert {\n",
              "      background-color: #3B4455;\n",
              "      fill: #D2E3FC;\n",
              "    }\n",
              "\n",
              "    [theme=dark] .colab-df-convert:hover {\n",
              "      background-color: #434B5C;\n",
              "      box-shadow: 0px 1px 3px 1px rgba(0, 0, 0, 0.15);\n",
              "      filter: drop-shadow(0px 1px 2px rgba(0, 0, 0, 0.3));\n",
              "      fill: #FFFFFF;\n",
              "    }\n",
              "  </style>\n",
              "\n",
              "      <script>\n",
              "        const buttonEl =\n",
              "          document.querySelector('#df-efaa07f4-b28a-4098-9e68-e01349091646 button.colab-df-convert');\n",
              "        buttonEl.style.display =\n",
              "          google.colab.kernel.accessAllowed ? 'block' : 'none';\n",
              "\n",
              "        async function convertToInteractive(key) {\n",
              "          const element = document.querySelector('#df-efaa07f4-b28a-4098-9e68-e01349091646');\n",
              "          const dataTable =\n",
              "            await google.colab.kernel.invokeFunction('convertToInteractive',\n",
              "                                                     [key], {});\n",
              "          if (!dataTable) return;\n",
              "\n",
              "          const docLinkHtml = 'Like what you see? Visit the ' +\n",
              "            '<a target=\"_blank\" href=https://colab.research.google.com/notebooks/data_table.ipynb>data table notebook</a>'\n",
              "            + ' to learn more about interactive tables.';\n",
              "          element.innerHTML = '';\n",
              "          dataTable['output_type'] = 'display_data';\n",
              "          await google.colab.output.renderOutput(dataTable, element);\n",
              "          const docLink = document.createElement('div');\n",
              "          docLink.innerHTML = docLinkHtml;\n",
              "          element.appendChild(docLink);\n",
              "        }\n",
              "      </script>\n",
              "    </div>\n",
              "  </div>\n",
              "  "
            ]
          },
          "metadata": {},
          "execution_count": 11
        }
      ]
    },
    {
      "cell_type": "code",
      "source": [
        "X.dropna(inplace=True)\n",
        "X"
      ],
      "metadata": {
        "colab": {
          "base_uri": "https://localhost:8080/",
          "height": 485
        },
        "id": "q1-8oeRZmL65",
        "outputId": "fb9060e4-7459-4f6d-f103-c2a13677ef21"
      },
      "execution_count": 12,
      "outputs": [
        {
          "output_type": "execute_result",
          "data": {
            "text/plain": [
              "    Level Gender    Tenure   KT Ext Parity  med1  med2  med3       lv1  \\\n",
              "0     0.0    0.0  0.000000  0.0        1.0  1.00  0.75  0.50  0.571429   \n",
              "1     0.0    0.0  0.333333  0.0        1.0  1.00  0.75  0.25  0.142857   \n",
              "2     0.0    0.0  0.666667  0.0        1.0  0.75  1.00  0.25  0.714286   \n",
              "3     0.0    0.0  0.000000  0.0        1.0  1.00  0.25  0.75  0.857143   \n",
              "4     0.5    0.0  1.000000  1.0        1.0  0.25  0.50  0.75  0.857143   \n",
              "..    ...    ...       ...  ...        ...   ...   ...   ...       ...   \n",
              "916   0.5    1.0  1.000000  1.0        0.0  0.00  0.25  1.00  0.857143   \n",
              "917   0.0    0.0  1.000000  0.0        1.0  0.25  0.75  1.00  0.142857   \n",
              "918   0.5    1.0  1.000000  1.0        0.0  0.25  0.50  0.75  0.857143   \n",
              "919   0.0    1.0  1.000000  0.0        1.0  0.00  0.50  0.75  0.571429   \n",
              "920   0.0    0.0  0.000000  1.0        1.0  0.25  0.00  0.50  0.000000   \n",
              "\n",
              "          lv2       lv3 ben1 ben2 ben3  \n",
              "0    0.428571  0.714286  0.6  0.4  1.0  \n",
              "1    0.000000  0.285714  0.2  0.8  0.6  \n",
              "2    0.000000  0.285714  0.0  0.2  0.4  \n",
              "3    1.000000  0.142857  0.6  1.0  0.8  \n",
              "4    0.142857  0.428571  0.4  0.2  0.0  \n",
              "..        ...       ...  ...  ...  ...  \n",
              "916  0.142857  0.428571  0.2  0.0  0.6  \n",
              "917  0.000000  0.428571  0.6  1.0  0.8  \n",
              "918  0.142857  0.000000  0.4  0.6  1.0  \n",
              "919  0.428571  0.857143  0.0  0.6  0.8  \n",
              "920  0.428571  0.571429  0.4  0.6  1.0  \n",
              "\n",
              "[921 rows x 14 columns]"
            ],
            "text/html": [
              "\n",
              "  <div id=\"df-799d32ad-74bc-4918-bb40-4b318de51b6e\">\n",
              "    <div class=\"colab-df-container\">\n",
              "      <div>\n",
              "<style scoped>\n",
              "    .dataframe tbody tr th:only-of-type {\n",
              "        vertical-align: middle;\n",
              "    }\n",
              "\n",
              "    .dataframe tbody tr th {\n",
              "        vertical-align: top;\n",
              "    }\n",
              "\n",
              "    .dataframe thead tr th {\n",
              "        text-align: left;\n",
              "    }\n",
              "</style>\n",
              "<table border=\"1\" class=\"dataframe\">\n",
              "  <thead>\n",
              "    <tr>\n",
              "      <th></th>\n",
              "      <th>Level</th>\n",
              "      <th>Gender</th>\n",
              "      <th>Tenure</th>\n",
              "      <th>KT</th>\n",
              "      <th>Ext Parity</th>\n",
              "      <th>med1</th>\n",
              "      <th>med2</th>\n",
              "      <th>med3</th>\n",
              "      <th>lv1</th>\n",
              "      <th>lv2</th>\n",
              "      <th>lv3</th>\n",
              "      <th>ben1</th>\n",
              "      <th>ben2</th>\n",
              "      <th>ben3</th>\n",
              "    </tr>\n",
              "  </thead>\n",
              "  <tbody>\n",
              "    <tr>\n",
              "      <th>0</th>\n",
              "      <td>0.0</td>\n",
              "      <td>0.0</td>\n",
              "      <td>0.000000</td>\n",
              "      <td>0.0</td>\n",
              "      <td>1.0</td>\n",
              "      <td>1.00</td>\n",
              "      <td>0.75</td>\n",
              "      <td>0.50</td>\n",
              "      <td>0.571429</td>\n",
              "      <td>0.428571</td>\n",
              "      <td>0.714286</td>\n",
              "      <td>0.6</td>\n",
              "      <td>0.4</td>\n",
              "      <td>1.0</td>\n",
              "    </tr>\n",
              "    <tr>\n",
              "      <th>1</th>\n",
              "      <td>0.0</td>\n",
              "      <td>0.0</td>\n",
              "      <td>0.333333</td>\n",
              "      <td>0.0</td>\n",
              "      <td>1.0</td>\n",
              "      <td>1.00</td>\n",
              "      <td>0.75</td>\n",
              "      <td>0.25</td>\n",
              "      <td>0.142857</td>\n",
              "      <td>0.000000</td>\n",
              "      <td>0.285714</td>\n",
              "      <td>0.2</td>\n",
              "      <td>0.8</td>\n",
              "      <td>0.6</td>\n",
              "    </tr>\n",
              "    <tr>\n",
              "      <th>2</th>\n",
              "      <td>0.0</td>\n",
              "      <td>0.0</td>\n",
              "      <td>0.666667</td>\n",
              "      <td>0.0</td>\n",
              "      <td>1.0</td>\n",
              "      <td>0.75</td>\n",
              "      <td>1.00</td>\n",
              "      <td>0.25</td>\n",
              "      <td>0.714286</td>\n",
              "      <td>0.000000</td>\n",
              "      <td>0.285714</td>\n",
              "      <td>0.0</td>\n",
              "      <td>0.2</td>\n",
              "      <td>0.4</td>\n",
              "    </tr>\n",
              "    <tr>\n",
              "      <th>3</th>\n",
              "      <td>0.0</td>\n",
              "      <td>0.0</td>\n",
              "      <td>0.000000</td>\n",
              "      <td>0.0</td>\n",
              "      <td>1.0</td>\n",
              "      <td>1.00</td>\n",
              "      <td>0.25</td>\n",
              "      <td>0.75</td>\n",
              "      <td>0.857143</td>\n",
              "      <td>1.000000</td>\n",
              "      <td>0.142857</td>\n",
              "      <td>0.6</td>\n",
              "      <td>1.0</td>\n",
              "      <td>0.8</td>\n",
              "    </tr>\n",
              "    <tr>\n",
              "      <th>4</th>\n",
              "      <td>0.5</td>\n",
              "      <td>0.0</td>\n",
              "      <td>1.000000</td>\n",
              "      <td>1.0</td>\n",
              "      <td>1.0</td>\n",
              "      <td>0.25</td>\n",
              "      <td>0.50</td>\n",
              "      <td>0.75</td>\n",
              "      <td>0.857143</td>\n",
              "      <td>0.142857</td>\n",
              "      <td>0.428571</td>\n",
              "      <td>0.4</td>\n",
              "      <td>0.2</td>\n",
              "      <td>0.0</td>\n",
              "    </tr>\n",
              "    <tr>\n",
              "      <th>...</th>\n",
              "      <td>...</td>\n",
              "      <td>...</td>\n",
              "      <td>...</td>\n",
              "      <td>...</td>\n",
              "      <td>...</td>\n",
              "      <td>...</td>\n",
              "      <td>...</td>\n",
              "      <td>...</td>\n",
              "      <td>...</td>\n",
              "      <td>...</td>\n",
              "      <td>...</td>\n",
              "      <td>...</td>\n",
              "      <td>...</td>\n",
              "      <td>...</td>\n",
              "    </tr>\n",
              "    <tr>\n",
              "      <th>916</th>\n",
              "      <td>0.5</td>\n",
              "      <td>1.0</td>\n",
              "      <td>1.000000</td>\n",
              "      <td>1.0</td>\n",
              "      <td>0.0</td>\n",
              "      <td>0.00</td>\n",
              "      <td>0.25</td>\n",
              "      <td>1.00</td>\n",
              "      <td>0.857143</td>\n",
              "      <td>0.142857</td>\n",
              "      <td>0.428571</td>\n",
              "      <td>0.2</td>\n",
              "      <td>0.0</td>\n",
              "      <td>0.6</td>\n",
              "    </tr>\n",
              "    <tr>\n",
              "      <th>917</th>\n",
              "      <td>0.0</td>\n",
              "      <td>0.0</td>\n",
              "      <td>1.000000</td>\n",
              "      <td>0.0</td>\n",
              "      <td>1.0</td>\n",
              "      <td>0.25</td>\n",
              "      <td>0.75</td>\n",
              "      <td>1.00</td>\n",
              "      <td>0.142857</td>\n",
              "      <td>0.000000</td>\n",
              "      <td>0.428571</td>\n",
              "      <td>0.6</td>\n",
              "      <td>1.0</td>\n",
              "      <td>0.8</td>\n",
              "    </tr>\n",
              "    <tr>\n",
              "      <th>918</th>\n",
              "      <td>0.5</td>\n",
              "      <td>1.0</td>\n",
              "      <td>1.000000</td>\n",
              "      <td>1.0</td>\n",
              "      <td>0.0</td>\n",
              "      <td>0.25</td>\n",
              "      <td>0.50</td>\n",
              "      <td>0.75</td>\n",
              "      <td>0.857143</td>\n",
              "      <td>0.142857</td>\n",
              "      <td>0.000000</td>\n",
              "      <td>0.4</td>\n",
              "      <td>0.6</td>\n",
              "      <td>1.0</td>\n",
              "    </tr>\n",
              "    <tr>\n",
              "      <th>919</th>\n",
              "      <td>0.0</td>\n",
              "      <td>1.0</td>\n",
              "      <td>1.000000</td>\n",
              "      <td>0.0</td>\n",
              "      <td>1.0</td>\n",
              "      <td>0.00</td>\n",
              "      <td>0.50</td>\n",
              "      <td>0.75</td>\n",
              "      <td>0.571429</td>\n",
              "      <td>0.428571</td>\n",
              "      <td>0.857143</td>\n",
              "      <td>0.0</td>\n",
              "      <td>0.6</td>\n",
              "      <td>0.8</td>\n",
              "    </tr>\n",
              "    <tr>\n",
              "      <th>920</th>\n",
              "      <td>0.0</td>\n",
              "      <td>0.0</td>\n",
              "      <td>0.000000</td>\n",
              "      <td>1.0</td>\n",
              "      <td>1.0</td>\n",
              "      <td>0.25</td>\n",
              "      <td>0.00</td>\n",
              "      <td>0.50</td>\n",
              "      <td>0.000000</td>\n",
              "      <td>0.428571</td>\n",
              "      <td>0.571429</td>\n",
              "      <td>0.4</td>\n",
              "      <td>0.6</td>\n",
              "      <td>1.0</td>\n",
              "    </tr>\n",
              "  </tbody>\n",
              "</table>\n",
              "<p>921 rows × 14 columns</p>\n",
              "</div>\n",
              "      <button class=\"colab-df-convert\" onclick=\"convertToInteractive('df-799d32ad-74bc-4918-bb40-4b318de51b6e')\"\n",
              "              title=\"Convert this dataframe to an interactive table.\"\n",
              "              style=\"display:none;\">\n",
              "        \n",
              "  <svg xmlns=\"http://www.w3.org/2000/svg\" height=\"24px\"viewBox=\"0 0 24 24\"\n",
              "       width=\"24px\">\n",
              "    <path d=\"M0 0h24v24H0V0z\" fill=\"none\"/>\n",
              "    <path d=\"M18.56 5.44l.94 2.06.94-2.06 2.06-.94-2.06-.94-.94-2.06-.94 2.06-2.06.94zm-11 1L8.5 8.5l.94-2.06 2.06-.94-2.06-.94L8.5 2.5l-.94 2.06-2.06.94zm10 10l.94 2.06.94-2.06 2.06-.94-2.06-.94-.94-2.06-.94 2.06-2.06.94z\"/><path d=\"M17.41 7.96l-1.37-1.37c-.4-.4-.92-.59-1.43-.59-.52 0-1.04.2-1.43.59L10.3 9.45l-7.72 7.72c-.78.78-.78 2.05 0 2.83L4 21.41c.39.39.9.59 1.41.59.51 0 1.02-.2 1.41-.59l7.78-7.78 2.81-2.81c.8-.78.8-2.07 0-2.86zM5.41 20L4 18.59l7.72-7.72 1.47 1.35L5.41 20z\"/>\n",
              "  </svg>\n",
              "      </button>\n",
              "      \n",
              "  <style>\n",
              "    .colab-df-container {\n",
              "      display:flex;\n",
              "      flex-wrap:wrap;\n",
              "      gap: 12px;\n",
              "    }\n",
              "\n",
              "    .colab-df-convert {\n",
              "      background-color: #E8F0FE;\n",
              "      border: none;\n",
              "      border-radius: 50%;\n",
              "      cursor: pointer;\n",
              "      display: none;\n",
              "      fill: #1967D2;\n",
              "      height: 32px;\n",
              "      padding: 0 0 0 0;\n",
              "      width: 32px;\n",
              "    }\n",
              "\n",
              "    .colab-df-convert:hover {\n",
              "      background-color: #E2EBFA;\n",
              "      box-shadow: 0px 1px 2px rgba(60, 64, 67, 0.3), 0px 1px 3px 1px rgba(60, 64, 67, 0.15);\n",
              "      fill: #174EA6;\n",
              "    }\n",
              "\n",
              "    [theme=dark] .colab-df-convert {\n",
              "      background-color: #3B4455;\n",
              "      fill: #D2E3FC;\n",
              "    }\n",
              "\n",
              "    [theme=dark] .colab-df-convert:hover {\n",
              "      background-color: #434B5C;\n",
              "      box-shadow: 0px 1px 3px 1px rgba(0, 0, 0, 0.15);\n",
              "      filter: drop-shadow(0px 1px 2px rgba(0, 0, 0, 0.3));\n",
              "      fill: #FFFFFF;\n",
              "    }\n",
              "  </style>\n",
              "\n",
              "      <script>\n",
              "        const buttonEl =\n",
              "          document.querySelector('#df-799d32ad-74bc-4918-bb40-4b318de51b6e button.colab-df-convert');\n",
              "        buttonEl.style.display =\n",
              "          google.colab.kernel.accessAllowed ? 'block' : 'none';\n",
              "\n",
              "        async function convertToInteractive(key) {\n",
              "          const element = document.querySelector('#df-799d32ad-74bc-4918-bb40-4b318de51b6e');\n",
              "          const dataTable =\n",
              "            await google.colab.kernel.invokeFunction('convertToInteractive',\n",
              "                                                     [key], {});\n",
              "          if (!dataTable) return;\n",
              "\n",
              "          const docLinkHtml = 'Like what you see? Visit the ' +\n",
              "            '<a target=\"_blank\" href=https://colab.research.google.com/notebooks/data_table.ipynb>data table notebook</a>'\n",
              "            + ' to learn more about interactive tables.';\n",
              "          element.innerHTML = '';\n",
              "          dataTable['output_type'] = 'display_data';\n",
              "          await google.colab.output.renderOutput(dataTable, element);\n",
              "          const docLink = document.createElement('div');\n",
              "          docLink.innerHTML = docLinkHtml;\n",
              "          element.appendChild(docLink);\n",
              "        }\n",
              "      </script>\n",
              "    </div>\n",
              "  </div>\n",
              "  "
            ]
          },
          "metadata": {},
          "execution_count": 12
        }
      ]
    },
    {
      "cell_type": "markdown",
      "source": [
        "K means"
      ],
      "metadata": {
        "id": "pD0fMwj4lsb-"
      }
    },
    {
      "cell_type": "code",
      "source": [
        "# 2 cluster\n",
        "from sklearn.cluster import KMeans\n",
        "\n",
        "kmeans = KMeans(n_clusters=2, random_state=0) \n",
        "\n",
        "kmeans.fit(X)"
      ],
      "metadata": {
        "colab": {
          "base_uri": "https://localhost:8080/"
        },
        "id": "uAaYfhvwltU-",
        "outputId": "40edff10-f08f-44dc-bdaf-66116a2ae32b"
      },
      "execution_count": 13,
      "outputs": [
        {
          "output_type": "execute_result",
          "data": {
            "text/plain": [
              "KMeans(n_clusters=2, random_state=0)"
            ]
          },
          "metadata": {},
          "execution_count": 13
        }
      ]
    },
    {
      "cell_type": "markdown",
      "source": [
        "centers"
      ],
      "metadata": {
        "id": "0Py24NAynFnU"
      }
    },
    {
      "cell_type": "code",
      "source": [
        "kmeans.cluster_centers_"
      ],
      "metadata": {
        "colab": {
          "base_uri": "https://localhost:8080/"
        },
        "id": "LtWm5_FgnGuB",
        "outputId": "22d7c6b2-5f8b-48aa-cb6c-e1db77689703"
      },
      "execution_count": 14,
      "outputs": [
        {
          "output_type": "execute_result",
          "data": {
            "text/plain": [
              "array([[ 2.24789916e-01,  5.79831933e-01,  5.42717087e-01,\n",
              "         5.14705882e-01,  1.00000000e+00,  4.10189076e-01,\n",
              "         4.57457983e-01,  4.88445378e-01,  4.12364946e-01,\n",
              "         3.55042017e-01,  3.73949580e-01,  3.05882353e-01,\n",
              "         3.82773109e-01,  4.76470588e-01],\n",
              "       [ 3.23595506e-01,  6.94382022e-01,  5.64044944e-01,\n",
              "         5.77528090e-01, -1.33226763e-15,  3.67415730e-01,\n",
              "         4.21910112e-01,  4.58988764e-01,  4.84109149e-01,\n",
              "         3.55698234e-01,  3.67897271e-01,  3.27640449e-01,\n",
              "         3.76629213e-01,  4.74157303e-01]])"
            ]
          },
          "metadata": {},
          "execution_count": 14
        }
      ]
    },
    {
      "cell_type": "markdown",
      "source": [],
      "metadata": {
        "id": "1-mRDFqynUuD"
      }
    },
    {
      "cell_type": "markdown",
      "source": [
        "inertia"
      ],
      "metadata": {
        "id": "gr7f2zRhnQwT"
      }
    },
    {
      "cell_type": "code",
      "source": [
        "kmeans.inertia_"
      ],
      "metadata": {
        "colab": {
          "base_uri": "https://localhost:8080/"
        },
        "id": "Q61AuJj-nSH7",
        "outputId": "e5d277bd-c531-45be-9a7f-3d0216442ddb"
      },
      "execution_count": 15,
      "outputs": [
        {
          "output_type": "execute_result",
          "data": {
            "text/plain": [
              "1505.191399211638"
            ]
          },
          "metadata": {},
          "execution_count": 15
        }
      ]
    },
    {
      "cell_type": "markdown",
      "source": [
        "Elbow"
      ],
      "metadata": {
        "id": "7NsqjWQ_nWWA"
      }
    },
    {
      "cell_type": "code",
      "source": [
        "from sklearn.cluster import KMeans\n",
        "cs = []\n",
        "for i in range(1, 40):\n",
        "    kmeans = KMeans(n_clusters = i, init = 'k-means++', max_iter = 300, n_init = 10, random_state = 0)\n",
        "    kmeans.fit(X)\n",
        "    cs.append(kmeans.inertia_)\n",
        "plt.plot(range(1, 40), cs)\n",
        "plt.title('The Elbow Method')\n",
        "plt.xlabel('Number of clusters')\n",
        "plt.ylabel('CS')\n",
        "plt.show()"
      ],
      "metadata": {
        "colab": {
          "base_uri": "https://localhost:8080/",
          "height": 295
        },
        "id": "i3unur8Kngn0",
        "outputId": "fa5ea30e-8281-43ea-df5f-b5491f6aebbe"
      },
      "execution_count": 16,
      "outputs": [
        {
          "output_type": "display_data",
          "data": {
            "text/plain": [
              "<Figure size 432x288 with 1 Axes>"
            ],
            "image/png": "[encoded data removed]"
          },
          "metadata": {
            "needs_background": "light"
          }
        }
      ]
    },
    {
      "cell_type": "code",
      "source": [
        "from sklearn.cluster import KMeans\n",
        "cs = []\n",
        "for i in range(1, 12):\n",
        "    kmeans = KMeans(n_clusters = i, init = 'k-means++', max_iter = 300, n_init = 10, random_state = 0)\n",
        "    kmeans.fit(X)\n",
        "    cs.append(kmeans.inertia_)\n",
        "plt.plot(range(1, 12), cs)\n",
        "plt.title('The Elbow Method')\n",
        "plt.xlabel('Number of clusters')\n",
        "plt.ylabel('CS')\n",
        "plt.show()"
      ],
      "metadata": {
        "colab": {
          "base_uri": "https://localhost:8080/",
          "height": 295
        },
        "id": "eoAjNAsYoIRW",
        "outputId": "1e37f21b-7c05-4859-d9e2-8705d9596a73"
      },
      "execution_count": 17,
      "outputs": [
        {
          "output_type": "display_data",
          "data": {
            "text/plain": [
              "<Figure size 432x288 with 1 Axes>"
            ],
            "image/png": "[encoded data removed]"
          },
          "metadata": {
            "needs_background": "light"
          }
        }
      ]
    },
    {
      "cell_type": "markdown",
      "source": [
        "individual k mean"
      ],
      "metadata": {
        "id": "bu28_zTwoRQg"
      }
    },
    {
      "cell_type": "code",
      "source": [
        "from sklearn.cluster import KMeans\n",
        "\n",
        "kmeans = KMeans(n_clusters=4, random_state=0) \n",
        "\n",
        "kmeans.fit(X)"
      ],
      "metadata": {
        "colab": {
          "base_uri": "https://localhost:8080/"
        },
        "id": "ZFFq9LfooU3z",
        "outputId": "3b1a1d87-be2d-434a-f62d-5c0f83f564c9"
      },
      "execution_count": 18,
      "outputs": [
        {
          "output_type": "execute_result",
          "data": {
            "text/plain": [
              "KMeans(n_clusters=4, random_state=0)"
            ]
          },
          "metadata": {},
          "execution_count": 18
        }
      ]
    },
    {
      "cell_type": "code",
      "source": [
        "labels=kmeans.labels_\n",
        "print(labels)"
      ],
      "metadata": {
        "colab": {
          "base_uri": "https://localhost:8080/"
        },
        "id": "dki1aUC_vEcG",
        "outputId": "afd16056-5586-44bd-beb9-d3b3d0cdb2a7"
      },
      "execution_count": 19,
      "outputs": [
        {
          "output_type": "stream",
          "name": "stdout",
          "text": [
            "[2 2 2 2 0 0 1 0 1 3 2 3 3 2 0 1 2 0 2 0 3 2 0 3 0 2 0 3 1 3 0 1 0 0 2 1 3\n",
            " 2 3 1 0 3 2 3 0 2 2 2 3 2 0 0 3 3 3 3 0 3 0 0 1 1 1 3 1 3 3 3 0 1 2 3 3 2\n",
            " 2 3 3 3 0 3 1 1 0 0 2 0 3 0 3 2 3 0 0 2 3 0 1 3 0 3 0 3 0 0 0 0 0 2 3 0 2\n",
            " 2 0 1 2 1 3 0 2 0 0 2 0 3 0 1 1 1 3 1 0 2 0 2 3 1 0 1 3 2 0 0 0 3 2 0 2 2\n",
            " 0 3 0 2 0 2 0 1 2 0 1 0 1 3 2 0 1 3 2 1 0 0 3 0 2 0 3 3 0 1 3 1 3 1 2 0 1\n",
            " 1 3 2 2 2 2 3 1 1 1 3 1 3 2 1 0 2 1 2 2 0 0 3 1 0 0 0 3 0 0 3 0 3 1 2 3 1\n",
            " 2 2 0 0 3 3 0 2 2 3 2 2 3 3 3 3 1 2 2 3 0 0 3 2 3 2 2 2 3 2 3 2 3 0 3 1 1\n",
            " 2 0 0 0 3 2 3 0 1 0 3 0 0 0 0 0 3 2 3 2 1 0 1 0 3 1 2 2 1 1 1 2 0 0 3 2 3\n",
            " 2 2 1 0 1 2 3 2 1 2 3 0 3 3 2 2 3 2 3 1 0 0 2 1 3 0 2 3 1 2 2 3 2 1 3 2 2\n",
            " 3 2 2 3 1 2 3 3 1 2 1 1 2 3 2 2 3 0 3 2 3 2 2 3 0 2 3 2 2 2 2 3 2 1 0 0 1\n",
            " 1 0 0 2 1 3 2 2 1 0 3 0 3 2 3 1 1 3 3 3 1 3 3 3 1 3 0 3 1 3 0 0 0 3 3 0 1\n",
            " 3 2 3 1 3 2 0 3 2 0 1 3 2 3 3 0 3 3 0 2 0 3 0 0 2 2 3 0 3 2 1 0 2 3 2 1 0\n",
            " 3 0 3 1 1 2 0 3 1 1 1 3 1 0 3 3 1 2 2 2 1 1 0 3 2 3 0 1 0 3 3 0 2 0 0 3 2\n",
            " 0 2 1 0 0 2 3 3 2 2 3 1 3 2 3 1 3 0 1 3 1 2 0 0 1 0 2 1 2 3 2 1 3 1 3 1 0\n",
            " 2 0 3 1 2 1 2 1 3 2 1 2 3 2 1 1 0 3 2 1 3 2 3 3 0 2 2 2 2 0 3 3 3 0 2 0 3\n",
            " 0 0 3 3 3 3 1 0 1 3 3 1 2 3 2 2 0 0 3 0 2 3 2 1 1 3 3 2 1 2 2 0 2 2 1 3 3\n",
            " 1 1 0 1 1 1 2 2 2 3 0 0 3 0 2 0 3 0 1 0 0 3 1 2 3 0 2 2 3 3 2 2 0 0 0 3 0\n",
            " 2 3 3 3 3 3 2 3 1 1 3 2 2 1 3 1 1 3 1 0 2 0 0 0 0 2 1 3 0 1 1 3 0 0 3 1 0\n",
            " 3 0 2 0 1 3 3 1 0 2 1 2 0 0 3 3 3 3 0 3 0 3 0 2 2 2 0 2 2 3 3 0 0 1 0 0 3\n",
            " 0 0 2 2 0 1 0 1 0 2 3 2 0 0 1 3 3 1 3 1 0 3 1 1 2 0 3 0 3 1 1 1 3 2 0 3 3\n",
            " 0 1 3 0 1 2 1 2 0 2 3 0 2 1 1 3 2 2 0 3 1 3 2 1 2 0 2 3 2 2 0 0 3 3 0 2 0\n",
            " 2 0 1 1 1 2 1 1 1 0 0 2 2 1 0 3 1 3 3 1 3 0 2 2 2 0 1 3 2 0 2 3 1 2 3 2 0\n",
            " 3 2 2 1 3 3 0 2 1 2 1 2 2 1 0 1 1 3 3 2 1 1 0 0 1 0 0 1 1 1 2 0 1 0 2 3 2\n",
            " 2 2 1 1 1 0 3 1 3 0 0 0 3 1 0 2 2 0 3 1 0 0 3 2 1 3 2 3 2 3 3 0 3 1 0 2 3\n",
            " 0 0 3 0 3 3 0 1 3 0 3 1 1 0 1 0 2 0 3 0 3 1 1 0 2 0 0 0 3 2 3 2 0]\n"
          ]
        }
      ]
    },
    {
      "cell_type": "code",
      "source": [
        "Z=kmeans.cluster_centers_\n",
        "Z"
      ],
      "metadata": {
        "colab": {
          "base_uri": "https://localhost:8080/"
        },
        "id": "9I9aadFtodjs",
        "outputId": "3e4cdbe8-061f-44da-88ac-dc36468a47d0"
      },
      "execution_count": 20,
      "outputs": [
        {
          "output_type": "execute_result",
          "data": {
            "text/plain": [
              "array([[ 2.93877551e-01,  6.00000000e-01,  5.36054422e-01,\n",
              "         1.00000000e+00,  1.00000000e+00,  3.94897959e-01,\n",
              "         4.78571429e-01,  4.80612245e-01,  4.22740525e-01,\n",
              "         3.46355685e-01,  3.58017493e-01,  3.22448980e-01,\n",
              "         3.60000000e-01,  4.54693878e-01],\n",
              "       [ 2.79255319e-01,  6.91489362e-01,  5.56737589e-01,\n",
              "         6.66133815e-16, -2.22044605e-16,  3.88297872e-01,\n",
              "         3.89627660e-01,  4.20212766e-01,  4.83282675e-01,\n",
              "         3.58662614e-01,  3.86018237e-01,  3.31914894e-01,\n",
              "         3.76595745e-01,  4.57446809e-01],\n",
              "       [ 1.51515152e-01,  5.58441558e-01,  5.49783550e-01,\n",
              "         9.99200722e-16,  1.00000000e+00,  4.26406926e-01,\n",
              "         4.35064935e-01,  4.96753247e-01,  4.01360544e-01,\n",
              "         3.64254793e-01,  3.90847248e-01,  2.88311688e-01,\n",
              "         4.06926407e-01,  4.99567100e-01],\n",
              "       [ 3.56031128e-01,  6.96498054e-01,  5.69390402e-01,\n",
              "         1.00000000e+00, -6.66133815e-16,  3.52140078e-01,\n",
              "         4.45525292e-01,  4.87354086e-01,  4.84713730e-01,\n",
              "         3.53529739e-01,  3.54641467e-01,  3.24513619e-01,\n",
              "         3.76653696e-01,  4.86381323e-01]])"
            ]
          },
          "metadata": {},
          "execution_count": 20
        }
      ]
    },
    {
      "cell_type": "code",
      "source": [
        "\n",
        "tsne = TSNE(n_components=3, verbose=1, perplexity=80, n_iter=5000, learning_rate=200)\n",
        "tsne_scale_results = tsne.fit_transform(X)\n",
        "tsne_df_scale = pd.DataFrame(tsne_scale_results, columns=['tsne1', 'tsne2', 'tsne3'])\n",
        "plt.figure(figsize = (10,10))\n",
        "plt.scatter(tsne_df_scale.iloc[:,0],tsne_df_scale.iloc[:,1],alpha=0.25, facecolor='lightslategray')\n",
        "plt.xlabel('tsne1')\n",
        "plt.ylabel('tsne2')\n",
        "plt.show()"
      ],
      "metadata": {
        "colab": {
          "base_uri": "https://localhost:8080/",
          "height": 727
        },
        "id": "NN7Pe8JSwS65",
        "outputId": "434155fb-a7e9-4879-f1cf-1e9184c4efd1"
      },
      "execution_count": 21,
      "outputs": [
        {
          "output_type": "stream",
          "name": "stdout",
          "text": [
            "[t-SNE] Computing 241 nearest neighbors...\n",
            "[t-SNE] Indexed 921 samples in 0.002s...\n",
            "[t-SNE] Computed neighbors for 921 samples in 0.090s...\n",
            "[t-SNE] Computed conditional probabilities for sample 921 / 921\n",
            "[t-SNE] Mean sigma: 0.648717\n",
            "[t-SNE] KL divergence after 250 iterations with early exaggeration: 58.245914\n",
            "[t-SNE] KL divergence after 700 iterations: 0.846977\n"
          ]
        },
        {
          "output_type": "display_data",
          "data": {
            "text/plain": [
              "<Figure size 720x720 with 1 Axes>"
            ],
            "image/png": "[encoded data removed]"
          },
          "metadata": {
            "needs_background": "light"
          }
        }
      ]
    },
    {
      "cell_type": "code",
      "source": [
        "import matplotlib"
      ],
      "metadata": {
        "id": "anE62RKJy_q_"
      },
      "execution_count": 22,
      "outputs": []
    },
    {
      "cell_type": "code",
      "source": [
        "tsne = TSNE(n_components=2, verbose=1, perplexity=80, n_iter=2500, learning_rate=200)\n",
        "tsne_scale_results = tsne.fit_transform(X)\n",
        "tsne_df_scale = pd.DataFrame(tsne_scale_results, columns=['tsne1', 'tsne2'])\n"
      ],
      "metadata": {
        "colab": {
          "base_uri": "https://localhost:8080/"
        },
        "id": "5ntBfl30xPyw",
        "outputId": "a54e605c-4765-4726-8d5e-5e6c5c61f8ab"
      },
      "execution_count": 23,
      "outputs": [
        {
          "output_type": "stream",
          "name": "stdout",
          "text": [
            "[t-SNE] Computing 241 nearest neighbors...\n",
            "[t-SNE] Indexed 921 samples in 0.002s...\n",
            "[t-SNE] Computed neighbors for 921 samples in 0.074s...\n",
            "[t-SNE] Computed conditional probabilities for sample 921 / 921\n",
            "[t-SNE] Mean sigma: 0.648717\n",
            "[t-SNE] KL divergence after 250 iterations with early exaggeration: 58.721436\n",
            "[t-SNE] KL divergence after 2300 iterations: 0.820070\n"
          ]
        }
      ]
    },
    {
      "cell_type": "code",
      "source": [
        "np.unique(labels)\n"
      ],
      "metadata": {
        "colab": {
          "base_uri": "https://localhost:8080/"
        },
        "id": "hQhFoH9X29g0",
        "outputId": "bd6dbc27-51c1-4c1e-d1fd-677b9ce1e64e"
      },
      "execution_count": 24,
      "outputs": [
        {
          "output_type": "execute_result",
          "data": {
            "text/plain": [
              "array([0, 1, 2, 3], dtype=int32)"
            ]
          },
          "metadata": {},
          "execution_count": 24
        }
      ]
    },
    {
      "cell_type": "code",
      "source": [
        "colors = [\"red\",\"green\",\"blue\",\"purple\"]\n",
        "plt.figure(figsize = (10,10))\n",
        "plt.scatter(tsne_df_scale.iloc[:,0],tsne_df_scale.iloc[:,1],alpha=0.25, c=labels, cmap=matplotlib.colors.ListedColormap(colors))\n",
        "plt.xlabel('tsne1')\n",
        "plt.ylabel('tsne2')\n",
        "plt.show()"
      ],
      "metadata": {
        "colab": {
          "base_uri": "https://localhost:8080/",
          "height": 606
        },
        "id": "oQoOiThs0D6I",
        "outputId": "7ec64e26-f50e-42d5-93a2-6c9a8e8f323d"
      },
      "execution_count": 25,
      "outputs": [
        {
          "output_type": "display_data",
          "data": {
            "text/plain": [
              "<Figure size 720x720 with 1 Axes>"
            ],
            "image/png": "[encoded data removed]"
          },
          "metadata": {
            "needs_background": "light"
          }
        }
      ]
    },
    {
      "cell_type": "markdown",
      "source": [
        "Reverse Scaling"
      ],
      "metadata": {
        "id": "8AWxNuG2ozJl"
      }
    },
    {
      "cell_type": "code",
      "source": [
        "Z2 = ms.inverse_transform(Z)\n",
        "Z2"
      ],
      "metadata": {
        "colab": {
          "base_uri": "https://localhost:8080/"
        },
        "id": "3vKW42A5o1At",
        "outputId": "e23735b7-2f9b-459b-c610-fb6cd7bff41a"
      },
      "execution_count": 26,
      "outputs": [
        {
          "output_type": "execute_result",
          "data": {
            "text/plain": [
              "array([[ 5.87755102e-01,  6.00000000e-01,  2.60816327e+00,\n",
              "         1.00000000e+00,  1.00000000e+00,  1.35795918e+01,\n",
              "         1.39142857e+01,  1.39224490e+01,  3.95918367e+00,\n",
              "         3.42448980e+00,  3.50612245e+00,  2.61224490e+00,\n",
              "         2.80000000e+00,  3.27346939e+00],\n",
              "       [ 5.58510638e-01,  6.91489362e-01,  2.67021277e+00,\n",
              "         6.66133815e-16, -2.22044605e-16,  1.35531915e+01,\n",
              "         1.35585106e+01,  1.36808511e+01,  4.38297872e+00,\n",
              "         3.51063830e+00,  3.70212766e+00,  2.65957447e+00,\n",
              "         2.88297872e+00,  3.28723404e+00],\n",
              "       [ 3.03030303e-01,  5.58441558e-01,  2.64935065e+00,\n",
              "         9.99200722e-16,  1.00000000e+00,  1.37056277e+01,\n",
              "         1.37402597e+01,  1.39870130e+01,  3.80952381e+00,\n",
              "         3.54978355e+00,  3.73593074e+00,  2.44155844e+00,\n",
              "         3.03463203e+00,  3.49783550e+00],\n",
              "       [ 7.12062257e-01,  6.96498054e-01,  2.70817121e+00,\n",
              "         1.00000000e+00, -6.66133815e-16,  1.34085603e+01,\n",
              "         1.37821012e+01,  1.39494163e+01,  4.39299611e+00,\n",
              "         3.47470817e+00,  3.48249027e+00,  2.62256809e+00,\n",
              "         2.88326848e+00,  3.43190661e+00]])"
            ]
          },
          "metadata": {},
          "execution_count": 26
        }
      ]
    }
  ]
}